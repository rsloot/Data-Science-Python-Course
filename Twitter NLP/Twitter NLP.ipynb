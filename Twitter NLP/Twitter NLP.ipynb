{
 "cells": [
  {
   "cell_type": "code",
   "execution_count": 8,
   "metadata": {
    "collapsed": true
   },
   "outputs": [],
   "source": [
    "import os\n",
    "import pickle"
   ]
  },
  {
   "cell_type": "code",
   "execution_count": 9,
   "metadata": {
    "collapsed": true
   },
   "outputs": [],
   "source": [
    "Twitter=pickle.load(open('secret_twitter_credentials.pkl','rb'))"
   ]
  },
  {
   "cell_type": "code",
   "execution_count": 10,
   "metadata": {},
   "outputs": [
    {
     "name": "stdout",
     "output_type": "stream",
     "text": [
      "<twitter.api.Twitter object at 0x000001DB69521A58>\n"
     ]
    }
   ],
   "source": [
    "import twitter\n",
    "\n",
    "auth = twitter.oauth.OAuth(Twitter['Access Token'],\n",
    "                           Twitter['Access Token Secret'],\n",
    "                           Twitter['Consumer Key'],\n",
    "                           Twitter['Consumer Secret'])\n",
    "\n",
    "twitter_api = twitter.Twitter(auth=auth)\n",
    "\n",
    "print(twitter_api)"
   ]
  },
  {
   "cell_type": "code",
   "execution_count": 11,
   "metadata": {
    "collapsed": true
   },
   "outputs": [],
   "source": [
    "?twitter"
   ]
  },
  {
   "cell_type": "code",
   "execution_count": 12,
   "metadata": {},
   "outputs": [
    {
     "name": "stdout",
     "output_type": "stream",
     "text": [
      "RT @CVWickham: OSU is hiring a Data Analytics Program Director: https://t.co/PjtWS97Jhw Flexibility of academia + maintain connections with…\n"
     ]
    }
   ],
   "source": [
    "print(twitter_api.statuses.home_timeline(count=5)[0]['text'])"
   ]
  },
  {
   "cell_type": "code",
   "execution_count": 13,
   "metadata": {
    "collapsed": true
   },
   "outputs": [],
   "source": [
    "t_stream = twitter.TwitterStream(auth=auth)"
   ]
  },
  {
   "cell_type": "code",
   "execution_count": 14,
   "metadata": {
    "collapsed": true
   },
   "outputs": [],
   "source": [
    "twitter_iterator = t_stream.statuses.sample()"
   ]
  },
  {
   "cell_type": "code",
   "execution_count": 15,
   "metadata": {
    "collapsed": true
   },
   "outputs": [],
   "source": [
    "# for tweet in twitter_iterator:\n",
    "#     print(tweet)"
   ]
  },
  {
   "cell_type": "code",
   "execution_count": 16,
   "metadata": {
    "collapsed": true
   },
   "outputs": [],
   "source": [
    "# from collections import Counter\n",
    "# c = next(twitter_iterator)\n",
    "# c"
   ]
  },
  {
   "cell_type": "code",
   "execution_count": 17,
   "metadata": {
    "collapsed": true
   },
   "outputs": [],
   "source": [
    "q = 'NBA Draft filter:verified'\n",
    "n=100\n",
    "\n",
    "search = twitter_api.search.tweets(q=q, count=n, result_type='recent')\n",
    "statuses = search['statuses']"
   ]
  },
  {
   "cell_type": "code",
   "execution_count": 18,
   "metadata": {},
   "outputs": [
    {
     "data": {
      "text/plain": [
       "100"
      ]
     },
     "execution_count": 18,
     "metadata": {},
     "output_type": "execute_result"
    }
   ],
   "source": [
    "len(statuses)"
   ]
  },
  {
   "cell_type": "code",
   "execution_count": 19,
   "metadata": {
    "collapsed": true
   },
   "outputs": [],
   "source": [
    "# print(statuses)"
   ]
  },
  {
   "cell_type": "code",
   "execution_count": 20,
   "metadata": {
    "collapsed": true
   },
   "outputs": [],
   "source": [
    "## Getting status text\n",
    "text = [s['text'] for s in statuses]\n",
    "text = list(set(text))"
   ]
  },
  {
   "cell_type": "code",
   "execution_count": 21,
   "metadata": {},
   "outputs": [
    {
     "name": "stdout",
     "output_type": "stream",
     "text": [
      "91\n"
     ]
    },
    {
     "data": {
      "text/plain": [
       "['Our obscenely early 2018 NBA Mock Draft. Get to know the super-talented crop of big men. (by @cstonehoops) https://t.co/rxeueAN2AM',\n",
       " \"RT @dave_schilling: New ep of the B/R Mag Show podcast, with my interview with the guys from @ComedyCentral's @LegendsofCH @KingJosiah54 ht…\",\n",
       " 'Troy Caupain was not taken in the NBA draft, but a former #UC All-American has told Caupain to stay ready. Story coming @ENQSports',\n",
       " \"The NBA Draft is over. Let's take a look at the biggest offseason storylines on the way. https://t.co/QsSizheGVl\",\n",
       " 'Boston #Celtics: 2017 NBA Draft grades https://t.co/fPpiqpnwEE -- @massey_evan via @HoopsHabit https://t.co/ZFhnIcFaCo',\n",
       " '#New_York_Knicks: #2017_NBA_Draft grades https://t.co/nS9mKuysN2 via @hoopshabit https://t.co/APrOwcuRsb',\n",
       " \"Thursday night's @NBADraft in Brooklyn was historic for both @UCLA and the @pac12.\\n\\nhttps://t.co/NV7J5JxAsS\",\n",
       " 'As #Sixers fans left the #NBA Draft last night they were singing the 76ers theme song!\\n\\n\"..1, 2, 3, 4, 5, Sixers...… https://t.co/DeIdOzyvuO',\n",
       " '@Bison73J @aamartey1 I definitely understand that part of it (and just wrote about it - https://t.co/VIjDipXqW4 ),… https://t.co/jzlZgcTLxY',\n",
       " '2018 NBA Mock Draft: It’s never to early to look at who will be the best players in college\\xa0basketball https://t.co/cRQAb8rKvW',\n",
       " 'RT @Lakers: “When he’s on the floor, all four guys that are out there with him become better instantly.\" - Luke Walton\\nhttps://t.co/devgqNR…',\n",
       " \"RT @AZATHLETICS: It's official - @MarkkanenLauri heading to @chicagobulls as the 7th overall pick of the NBA Draft. \\n\\n🐻⬇️ https://t.co/1U3S…\",\n",
       " \"What it's like to be 19 years old and then, suddenly, a millionaire https://t.co/mVz5NuFd9U #NBADraft https://t.co/96i91obRc8\",\n",
       " \"It's Woodsy and Rich today from noon-3p! \\n\\nAJ Preller stops by at 12:30 and we're recapping the NBA Draft all day!… https://t.co/8qm4AOPB4L\",\n",
       " 'NOW @ 301-230-0980, what draft is better TV, the #NBA or the #NFL?',\n",
       " 'Fultz Tops NBA Draft Picks https://t.co/KYrjDKQgke',\n",
       " 'Donovan Mitchell is bringing a flashy playing style to the grind it out Utah Jazz. #NBADraft https://t.co/0PODRaeKHh https://t.co/AFuacmQf4X',\n",
       " 'With the 31st pick in the 2017 NBA Draft, the Charlotte Hornets (but really the Pelicans) select ...… https://t.co/xX215WCIUR',\n",
       " '2017 #NBA_Draft grades: How the Sixers performed https://t.co/vRJjkfwdJy via @sixersense https://t.co/oZEUm1OrPK',\n",
       " 'NBA draft no. 1 pick Markelle Fultz could use some work on his paid Instagram post game https://t.co/v81mrAg0tC',\n",
       " 'Looky here! The woebegone Timberwolves won the NBA Draft: https://t.co/siKfspjuMw via @WSJ',\n",
       " 'RT @Sportsnet: With the 2017 NBA Draft in the books, we hand out grades for each of the 30 first-round picks. (via @DaveZarum) \\n\\nhttps://t.…',\n",
       " 'RT @redrock_bball: Josh looks back on the 2017 NBA Draft, including the mega Jimmy Butler trade. https://t.co/iV0L8YGQLa',\n",
       " '10. sıradan draft edilen Zach Collins, North Las Vegas doğumlu ve NBA Summer League maçları 7-18 Temmuz tarihlerind… https://t.co/PXo2o5EEG1',\n",
       " '2017 #1 NBA Draft Pick Markelle Fultz checks in the day after achieving life long dream (6/23/17)… https://t.co/RSvvfRYMXT',\n",
       " 'RT @ZonaZealots: ZZ Fashion Police grade best NBA Draft suits https://t.co/4BNWmuWWQw',\n",
       " 'It was the biggest trade on draft night. \\n\\n@ZachLowe_NBA on what happens now that Jimmy Butler is a Timberwolf. https://t.co/EhLsfE6UHq',\n",
       " 'The Kings Insider Podcast: Recapping the 2017 NBA Draft (@James_HamNBCS) https://t.co/EuUIZhAgTr #SacKings… https://t.co/sEDSXLPzfH',\n",
       " 'Ike Anigbogu had no problems last 4 months of the season playing on knee that cost him an entire round in NBA draft: https://t.co/2Uca6iXVa2',\n",
       " \"Detroit Pistons' Andre Drummond getting used to NBA trade rumor mill https://t.co/htlQCWaWJn\",\n",
       " 'Also just recorded a Lowe Post pod w/ @WindhorstESPN on all things draft/free agency. Up in a bit.',\n",
       " 'Reports that LaMarcus wants out of San Antonio made the rounds yesterday https://t.co/fqdjcIt97A',\n",
       " 'Fultz, Ball, Tatum, Jackson...: así son los 10 primeros del draft #NBA https://t.co/IsnxaKXXhl  (vía @diarioas) https://t.co/i3z0FL55YZ',\n",
       " 'RT @FanSidedNBA: The Morning After: NBA #Draft Winners https://t.co/H7vfFiZQgj via @kjg_nba https://t.co/ik8MdhCCPv',\n",
       " 'Markelle Fultz says his goal is to be the best basketball player of all-time https://t.co/MoZJcmRVQD',\n",
       " 'Excel, CAA Lead Way With Four Players Each Selected In First Round Of NBA Draft: https://t.co/3eMiJg8qzo',\n",
       " 'New @LockedOnLakers: Does drafting Lonzo Ball make up for trading D’Angelo Russell? https://t.co/y0GfXTORu7 https://t.co/urtYAZVo64',\n",
       " \"Danny Ainge was annoyed by Josh Jackson's snub, but that's not why the Celtics didn't draft him https://t.co/xK2ERoceqc\",\n",
       " 'On Thursday, the 76ers picked up a really good point guard who grew up locally.\\n\\nThey also drafted Markelle Fultz:… https://t.co/oAHMWyi8AG',\n",
       " 'With the 2017 NBA Draft in the books, we hand out grades for each of the 30 first-round picks. (via @DaveZarum)… https://t.co/JENUCmKw1h',\n",
       " 'Most LA hoopers dream of playing for UCLA. All dream of playing for the Lakers https://t.co/9aw7rvFHsY',\n",
       " 'The Timberwolves are now one of NBA’s top teams thanks to a trade no one saw coming https://t.co/Z8SLahKmAw',\n",
       " \"#SPORTS! #NBA Draft saw #MarkelleFultz #LonzoBall and local guy go early . . . And you bet we didn't watch! https://t.co/LGXNSYNLSW\",\n",
       " 'RT @WSJ: The Timberwolves are now one of NBA’s top teams thanks to a trade no one saw coming https://t.co/Z8SLahKmAw',\n",
       " 'RT @CSNWizards: On Thursday, the 76ers picked up a really good point guard who grew up locally.\\n\\nThey also drafted Markelle Fultz: https://…',\n",
       " \"RT @NewsdaySports: .@Al_Iannazzone discusses why the #Knicks didn't trade Kristaps Porzingis and more in his latest Insider podcast https:/…\",\n",
       " 'NBA Draft 2017: LaVar Ball leads our look at high- and low-key winners and losers https://t.co/ThLOlCmFQI https://t.co/mZuf70mLtU',\n",
       " \"RT @MagicJohnson: Feeling really good about the NBA Draft. Welcome Kyle Kuzma, Thomas Bryant and Josh Hart to the Los Angeles Lakers. Let's…\",\n",
       " \"New ep of the B/R Mag Show podcast, with my interview with the guys from @ComedyCentral's @LegendsofCH @KingJosiah54 https://t.co/pw7XhF3C4i\",\n",
       " 'Denver #Nuggets: 2017 NBA Draft grades https://t.co/VhaQvO0s81 -- @frankurbina_ via @HoopsHabit https://t.co/hC3k4SXHE6',\n",
       " '10 things I think I think about the NBA draft https://t.co/HR4m8MnBnr',\n",
       " 'Congrats to all the @UNC_Basketball and @DiamondHeels players that went in the #NBA and #MLB draft. Enjoy the process! #TarHeelFamily',\n",
       " \"RT @Deadspin: VIDEO: Wiseass at NBA draft shouts out picks right before they're selected https://t.co/uQaHUE4F6g https://t.co/By2WReFAnY\",\n",
       " '#Boston_Celtics: #2017_NBA_Draft grades https://t.co/OxItHlpGcn via @hoopshabit https://t.co/9R4phAeeOu',\n",
       " 'The Morning After: NBA #Draft Winners https://t.co/H7vfFiZQgj via @kjg_nba https://t.co/ik8MdhCCPv',\n",
       " 'In the last week, @JoelEmbiid has sent @MarkelleF 75 text messages.\\n\\nSeriously. https://t.co/aHYAYOZrvZ',\n",
       " 'RT @MarkG_Medina: NBA Draft: How the Lakers tried to address shooting, defensive needs with No. 27, 30, 42 picks https://t.co/Ov7wAFZTf2',\n",
       " \"RT @esquire: What it's like to be 19 years old and then, suddenly, a millionaire https://t.co/mVz5NuFd9U #NBADraft https://t.co/96i91obRc8\",\n",
       " '#Denver_Nuggets: #2017_NBA_Draft grades https://t.co/Rofea2ECr2 via @hoopshabit https://t.co/MlNnPKNHYg',\n",
       " 'RT @poundingtherock: Get to know Derrick White, the Spurs’ first round pick https://t.co/jdRwaVDV65',\n",
       " 'RT @newlex8: The NBA draft reminds me of my draft day when I finally got my millions.....of side jobs to make up for the lack of salary.',\n",
       " 'NBA Draft: How the Lakers tried to address shooting, defensive needs with No. 27, 30, 42 picks https://t.co/Ov7wAFZTf2',\n",
       " \"*drumroll please* &amp; the 1st pick of the 2017 NBA Draft goes to... 😂 y'all got fierce competition @MarkelleF @ZO2_… https://t.co/kgIN2izRQB\",\n",
       " 'NBA Draft: Lakers tried to address shooting, defensive needs with No. 27, 30, 42 picks https://t.co/6Jz9HrfSav',\n",
       " 'Why Markelle Fultz needs to worry about #NBADraft history and not Instagram https://t.co/ySSm2s3ynS https://t.co/GSpoal1xiY',\n",
       " \"RT @DannyLeroux: Dunc'd On: Big draft review/analysis pod, including extended thoughts on the huge Jimmy Butler trade @NateDuncanNBA: https…\",\n",
       " 'NBA fans were spoiling 2nd round draft picks by shouting them out before the deputy commissioner could announce the… https://t.co/XIviAYmOit',\n",
       " 'It seems @MarkelleF has his priorities in order. https://t.co/gnJ0p6iOKY https://t.co/7RdeY61n4f',\n",
       " 'RT @UWAthletics: History made.\\n\\nFor the first time, the No. 1 selections in the NBA and WNBA draft have come from the same school and confe…',\n",
       " '¡Fultz, Ball y Tatum, los elegidos en el Draft de la NBA! #DirectoGolTarde https://t.co/AFJjeAvfnq',\n",
       " 'Lonzo Ball Goes Full Kardashian After NBA Draft https://t.co/ne82HCNOgk',\n",
       " 'James Dolan Gets Booed at Own Rock Concert; Explains Why it Was Held During NBA Draft https://t.co/6V4FtUhlE4 https://t.co/XYT3FjJUXp',\n",
       " '#ATLHawks draft pick lived in Guam, Turkey, Virgain Islands. Constantly moving had an effect on his game https://t.co/rtRU42lMNO #NBA',\n",
       " '2017 #NBA Draft: Evaluating the top 5 picks https://t.co/FtJRnPKsNi (by @ByNickGonzalez)',\n",
       " 'WATCH: @DougHaller and @sbordow break down the Suns draft. https://t.co/UztjaCgaDS',\n",
       " \"Stan Van Gundy says Andre Drummond 'hurt' by NBA trade rumors, but is starting to understand it. #Pistons\\nhttps://t.co/nwLbNuhOhd\",\n",
       " \"RT @ChuckAndPuckKJR: .@ChristianCaple joins us NOW to talk about Markelle Fultz going #1 in the NBA Draft &amp; what's next for @UW_MBB! &gt;&gt;&gt; ht…\",\n",
       " 'New @LockedOnLakers: Does drafting Lonzo Ball make up for trading D’Angelo Russell? https://t.co/L4ieWzwsPs https://t.co/WXh1JzYbJe',\n",
       " 'Markelle Fultz has two simple goals—turn the Sixers’ program around, and be the best player of all-time. https://t.co/cVC7CpUiit',\n",
       " '#NBADraft Look Back: No. 1 pick Markelle Fultz\\nCheck out a feature we did on new #Sixers guard when he was in HS:… https://t.co/P6MDYViYrG',\n",
       " 'RT @Schmeelk: Link below for the City Game podcast. We are joined by @JADubin5 talking Knicks, Nets, Porzingis, and the NBA Draft. Listen/s…',\n",
       " '2017 NBA Draft: the undrafted players the Mavericks should look at https://t.co/dM5SHIji7L https://t.co/tHIAF5Mx96',\n",
       " 'Next at 2pm is @dandakich &amp; @1070Bruno breaking down the #NBA Draft and #Pacers Listen-&gt; https://t.co/Nl5pgWpXop @1070thefan',\n",
       " 'How would we describe the #Rockets night? A gigantic popcorn fart.\\nhttps://t.co/3SfKF5ycSq',\n",
       " \".@Al_Iannazzone discusses why the #Knicks didn't trade Kristaps Porzingis and more in his latest Insider podcast… https://t.co/7hV3wSTfl2\",\n",
       " 'Danny Ainge believes the Celtics were close to making a trade at the NBA draft. https://t.co/LvFZM01Tu3 https://t.co/qa2y3s5KnE',\n",
       " 'RT @ProducerKyle: Next at 2pm is @dandakich &amp; @1070Bruno breaking down the #NBA Draft and #Pacers Listen-&gt; https://t.co/Nl5pgWpXop @1070the…',\n",
       " \"Great images of this year's NBA draft class courtesy of GQ's social and photo depts. https://t.co/4Itox6UXuS\",\n",
       " 'All of our first-round #NBADraft grades! https://t.co/5aqzlmLxCT',\n",
       " 'Take an all-access look at @swipathefox Draft night as he gets picked by @SacramentoKings!\\n\\nWATCH:… https://t.co/C0qv3QkHn9',\n",
       " 'RT @SBNation: Bulls\\' IRL GM: [trades Jimmy Butler]\\n\\nBulls\\' @NBA2K GM: \"NO. WHY?\"\\n\\nhttps://t.co/aVcw2J5rWx']"
      ]
     },
     "execution_count": 21,
     "metadata": {},
     "output_type": "execute_result"
    }
   ],
   "source": [
    "print(len(text))\n",
    "text"
   ]
  },
  {
   "cell_type": "code",
   "execution_count": 22,
   "metadata": {},
   "outputs": [
    {
     "name": "stdout",
     "output_type": "stream",
     "text": [
      "{\n",
      " \"metadata\": {\n",
      "  \"result_type\": \"recent\",\n",
      "  \"iso_language_code\": \"en\"\n",
      " },\n",
      " \"in_reply_to_status_id_str\": null,\n",
      " \"user\": {\n",
      "  \"default_profile_image\": false,\n",
      "  \"is_translator\": false,\n",
      "  \"friends_count\": 611,\n",
      "  \"default_profile\": false,\n",
      "  \"url\": \"https://t.co/bo2b9hnY35\",\n",
      "  \"utc_offset\": -10800,\n",
      "  \"profile_background_image_url\": \"http://pbs.twimg.com/profile_background_images/632362935/l3lstib9h43cewp5wdcs.jpeg\",\n",
      "  \"profile_sidebar_fill_color\": \"DDEEF6\",\n",
      "  \"created_at\": \"Sat May 05 01:56:51 +0000 2012\",\n",
      "  \"entities\": {\n",
      "   \"description\": {\n",
      "    \"urls\": []\n",
      "   },\n",
      "   \"url\": {\n",
      "    \"urls\": [\n",
      "     {\n",
      "      \"expanded_url\": \"http://lakeshowlife.com\",\n",
      "      \"indices\": [\n",
      "       0,\n",
      "       23\n",
      "      ],\n",
      "      \"url\": \"https://t.co/bo2b9hnY35\",\n",
      "      \"display_url\": \"lakeshowlife.com\"\n",
      "     }\n",
      "    ]\n",
      "   }\n",
      "  },\n",
      "  \"profile_sidebar_border_color\": \"C0DEED\",\n",
      "  \"profile_background_color\": \"000000\",\n",
      "  \"followers_count\": 8141,\n",
      "  \"screen_name\": \"TheLakeShowLife\",\n",
      "  \"profile_background_tile\": false,\n",
      "  \"verified\": true,\n",
      "  \"protected\": false,\n",
      "  \"location\": \"Los Angeles, California\",\n",
      "  \"following\": false,\n",
      "  \"profile_background_image_url_https\": \"https://pbs.twimg.com/profile_background_images/632362935/l3lstib9h43cewp5wdcs.jpeg\",\n",
      "  \"description\": \"The official Los Angeles Lakers publication of @Fansided | Run by @NickZiegler20 and @Teapester725 | #LakeShow #Lakers\",\n",
      "  \"has_extended_profile\": false,\n",
      "  \"listed_count\": 151,\n",
      "  \"id\": 571421361,\n",
      "  \"notifications\": false,\n",
      "  \"favourites_count\": 2871,\n",
      "  \"translator_type\": \"none\",\n",
      "  \"profile_use_background_image\": true,\n",
      "  \"profile_link_color\": \"6600FF\",\n",
      "  \"follow_request_sent\": false,\n",
      "  \"id_str\": \"571421361\",\n",
      "  \"name\": \"Lake Show Life\",\n",
      "  \"time_zone\": \"Atlantic Time (Canada)\",\n",
      "  \"contributors_enabled\": false,\n",
      "  \"geo_enabled\": false,\n",
      "  \"profile_image_url\": \"http://pbs.twimg.com/profile_images/378800000695485940/13ecbd97b006797cd118472868660b7e_normal.png\",\n",
      "  \"profile_text_color\": \"333333\",\n",
      "  \"statuses_count\": 32047,\n",
      "  \"is_translation_enabled\": false,\n",
      "  \"lang\": \"en\",\n",
      "  \"profile_image_url_https\": \"https://pbs.twimg.com/profile_images/378800000695485940/13ecbd97b006797cd118472868660b7e_normal.png\",\n",
      "  \"profile_banner_url\": \"https://pbs.twimg.com/profile_banners/571421361/1492786940\"\n",
      " },\n",
      " \"source\": \"<a href=\\\"http://twitter.com\\\" rel=\\\"nofollow\\\">Twitter Web Client</a>\",\n",
      " \"created_at\": \"Fri Jun 23 18:21:14 +0000 2017\",\n",
      " \"entities\": {\n",
      "  \"symbols\": [],\n",
      "  \"urls\": [],\n",
      "  \"hashtags\": [],\n",
      "  \"user_mentions\": [\n",
      "   {\n",
      "    \"id\": 20346956,\n",
      "    \"screen_name\": \"Lakers\",\n",
      "    \"id_str\": \"20346956\",\n",
      "    \"name\": \"Los Angeles Lakers\",\n",
      "    \"indices\": [\n",
      "     3,\n",
      "     10\n",
      "    ]\n",
      "   }\n",
      "  ]\n",
      " },\n",
      " \"retweeted_status\": {\n",
      "  \"metadata\": {\n",
      "   \"result_type\": \"recent\",\n",
      "   \"iso_language_code\": \"en\"\n",
      "  },\n",
      "  \"in_reply_to_status_id_str\": null,\n",
      "  \"user\": {\n",
      "   \"default_profile_image\": false,\n",
      "   \"is_translator\": false,\n",
      "   \"friends_count\": 76,\n",
      "   \"default_profile\": false,\n",
      "   \"url\": \"https://t.co/wVH5yL1gCR\",\n",
      "   \"utc_offset\": -25200,\n",
      "   \"profile_background_image_url\": \"http://pbs.twimg.com/profile_background_images/601451941/k6xc7dt47lcvhgayaq1a.jpeg\",\n",
      "   \"profile_sidebar_fill_color\": \"7AC3EE\",\n",
      "   \"created_at\": \"Sun Feb 08 02:14:35 +0000 2009\",\n",
      "   \"entities\": {\n",
      "    \"description\": {\n",
      "     \"urls\": []\n",
      "    },\n",
      "    \"url\": {\n",
      "     \"urls\": [\n",
      "      {\n",
      "       \"expanded_url\": \"http://www.lakers.com\",\n",
      "       \"indices\": [\n",
      "        0,\n",
      "        23\n",
      "       ],\n",
      "       \"url\": \"https://t.co/wVH5yL1gCR\",\n",
      "       \"display_url\": \"lakers.com\"\n",
      "      }\n",
      "     ]\n",
      "    }\n",
      "   },\n",
      "   \"profile_sidebar_border_color\": \"FFFFFF\",\n",
      "   \"profile_background_color\": \"642D8B\",\n",
      "   \"followers_count\": 6443754,\n",
      "   \"screen_name\": \"Lakers\",\n",
      "   \"profile_background_tile\": false,\n",
      "   \"verified\": true,\n",
      "   \"protected\": false,\n",
      "   \"location\": \"Los Angeles, CA\",\n",
      "   \"following\": false,\n",
      "   \"profile_background_image_url_https\": \"https://pbs.twimg.com/profile_background_images/601451941/k6xc7dt47lcvhgayaq1a.jpeg\",\n",
      "   \"description\": \"Official Twitter Feed of the 16-time NBA Champion Los Angeles Lakers #LakeShow\",\n",
      "   \"has_extended_profile\": false,\n",
      "   \"listed_count\": 19854,\n",
      "   \"id\": 20346956,\n",
      "   \"notifications\": false,\n",
      "   \"favourites_count\": 3038,\n",
      "   \"translator_type\": \"none\",\n",
      "   \"profile_use_background_image\": true,\n",
      "   \"profile_link_color\": \"552582\",\n",
      "   \"follow_request_sent\": false,\n",
      "   \"id_str\": \"20346956\",\n",
      "   \"name\": \"Los Angeles Lakers\",\n",
      "   \"time_zone\": \"Pacific Time (US & Canada)\",\n",
      "   \"contributors_enabled\": false,\n",
      "   \"geo_enabled\": true,\n",
      "   \"profile_image_url\": \"http://pbs.twimg.com/profile_images/727199929697890304/qPf_ZfJ6_normal.jpg\",\n",
      "   \"profile_text_color\": \"3D1957\",\n",
      "   \"statuses_count\": 46822,\n",
      "   \"is_translation_enabled\": true,\n",
      "   \"lang\": \"en\",\n",
      "   \"profile_image_url_https\": \"https://pbs.twimg.com/profile_images/727199929697890304/qPf_ZfJ6_normal.jpg\",\n",
      "   \"profile_banner_url\": \"https://pbs.twimg.com/profile_banners/20346956/1420495204\"\n",
      "  },\n",
      "  \"source\": \"<a href=\\\"https://about.twitter.com/products/tweetdeck\\\" rel=\\\"nofollow\\\">TweetDeck</a>\",\n",
      "  \"created_at\": \"Fri Jun 23 17:49:18 +0000 2017\",\n",
      "  \"entities\": {\n",
      "   \"symbols\": [],\n",
      "   \"urls\": [\n",
      "    {\n",
      "     \"expanded_url\": \"http://on.nba.com/2tCEVzA\",\n",
      "     \"indices\": [\n",
      "      107,\n",
      "      130\n",
      "     ],\n",
      "     \"url\": \"https://t.co/devgqNRZB6\",\n",
      "     \"display_url\": \"on.nba.com/2tCEVzA\"\n",
      "    }\n",
      "   ],\n",
      "   \"hashtags\": [],\n",
      "   \"user_mentions\": []\n",
      "  },\n",
      "  \"favorited\": false,\n",
      "  \"in_reply_to_user_id\": null,\n",
      "  \"is_quote_status\": false,\n",
      "  \"geo\": null,\n",
      "  \"favorite_count\": 397,\n",
      "  \"truncated\": false,\n",
      "  \"retweet_count\": 151,\n",
      "  \"id\": 878309000604925952,\n",
      "  \"in_reply_to_status_id\": null,\n",
      "  \"text\": \"\\u201cWhen he\\u2019s on the floor, all four guys that are out there with him become better instantly.\\\" - Luke Walton\\nhttps://t.co/devgqNRZB6\",\n",
      "  \"retweeted\": false,\n",
      "  \"id_str\": \"878309000604925952\",\n",
      "  \"coordinates\": null,\n",
      "  \"possibly_sensitive\": false,\n",
      "  \"contributors\": null,\n",
      "  \"in_reply_to_screen_name\": null,\n",
      "  \"in_reply_to_user_id_str\": null,\n",
      "  \"lang\": \"en\",\n",
      "  \"place\": null\n",
      " },\n",
      " \"favorited\": false,\n",
      " \"in_reply_to_user_id\": null,\n",
      " \"is_quote_status\": false,\n",
      " \"geo\": null,\n",
      " \"favorite_count\": 0,\n",
      " \"truncated\": false,\n",
      " \"retweet_count\": 151,\n",
      " \"id\": 878317034446102529,\n",
      " \"in_reply_to_status_id\": null,\n",
      " \"text\": \"RT @Lakers: \\u201cWhen he\\u2019s on the floor, all four guys that are out there with him become better instantly.\\\" - Luke Walton\\nhttps://t.co/devgqNR\\u2026\",\n",
      " \"retweeted\": false,\n",
      " \"id_str\": \"878317034446102529\",\n",
      " \"coordinates\": null,\n",
      " \"contributors\": null,\n",
      " \"in_reply_to_screen_name\": null,\n",
      " \"in_reply_to_user_id_str\": null,\n",
      " \"lang\": \"en\",\n",
      " \"place\": null\n",
      "}\n"
     ]
    }
   ],
   "source": [
    "import json\n",
    "print(json.dumps(statuses[0], indent=1))"
   ]
  },
  {
   "cell_type": "code",
   "execution_count": 23,
   "metadata": {
    "collapsed": true
   },
   "outputs": [],
   "source": [
    "status_text = [status['text'] for status in statuses]\n",
    "screen_names = [user_mention['screen_name'] \n",
    "                   for status in statuses\n",
    "                       for user_mention in status['entities']['user_mentions']]\n",
    "hashtags = [hashtag['text'] for status in statuses\n",
    "               for hashtag in status['entities']['hashtags']]\n",
    "\n",
    "# words in tweets\n",
    "words = [word for st in status_text for word in st.split()]"
   ]
  },
  {
   "cell_type": "code",
   "execution_count": 24,
   "metadata": {},
   "outputs": [
    {
     "name": "stdout",
     "output_type": "stream",
     "text": [
      "[\n",
      " \"RT @Lakers: \\u201cWhen he\\u2019s on the floor, all four guys that are out there with him become better instantly.\\\" - Luke Walton\\nhttps://t.co/devgqNR\\u2026\",\n",
      " \"RT @esquire: What it's like to be 19 years old and then, suddenly, a millionaire https://t.co/mVz5NuFd9U #NBADraft https://t.co/96i91obRc8\",\n",
      " \"RT @esquire: What it's like to be 19 years old and then, suddenly, a millionaire https://t.co/mVz5NuFd9U #NBADraft https://t.co/96i91obRc8\",\n",
      " \"#New_York_Knicks: #2017_NBA_Draft grades https://t.co/nS9mKuysN2 via @hoopshabit https://t.co/APrOwcuRsb\",\n",
      " \"#Boston_Celtics: #2017_NBA_Draft grades https://t.co/OxItHlpGcn via @hoopshabit https://t.co/9R4phAeeOu\"\n",
      "]\n",
      "[\n",
      " \"Lakers\",\n",
      " \"esquire\",\n",
      " \"esquire\",\n",
      " \"HoopsHabit\",\n",
      " \"HoopsHabit\"\n",
      "]\n",
      "[\n",
      " \"NBADraft\",\n",
      " \"NBADraft\",\n",
      " \"New_York_Knicks\",\n",
      " \"2017_NBA_Draft\",\n",
      " \"Boston_Celtics\"\n",
      "]\n",
      "[\n",
      " \"RT\",\n",
      " \"@Lakers:\",\n",
      " \"\\u201cWhen\",\n",
      " \"he\\u2019s\",\n",
      " \"on\"\n",
      "]\n"
     ]
    }
   ],
   "source": [
    "print(json.dumps(status_text[0:5], indent=1))\n",
    "print(json.dumps(screen_names[0:5], indent=1)) \n",
    "print(json.dumps(hashtags[0:5], indent=1))\n",
    "print(json.dumps(words[0:5], indent=1))"
   ]
  },
  {
   "cell_type": "code",
   "execution_count": 25,
   "metadata": {},
   "outputs": [
    {
     "name": "stdout",
     "output_type": "stream",
     "text": [
      "[('the', 83), ('NBA', 45), ('RT', 31), ('to', 26), ('Draft', 25), ('and', 25), ('of', 21), ('in', 19), ('a', 16), ('draft', 15)]\n",
      "\n",
      "[('HoopsHabit', 5), ('NBA2K', 4), ('SBNation', 4), ('1070Bruno', 4), ('dandakich', 4), ('UW_MBB', 3), ('MarkelleF', 3), ('ChristianCaple', 3), ('ProducerKyle', 3), ('ChuckAndPuckKJR', 3)]\n",
      "\n",
      "[('NBA', 11), ('NBADraft', 7), ('Pacers', 4), ('2017_NBA_Draft', 3), ('Draft', 2), ('Knicks', 2), ('Sixers', 2), ('ATLHawks', 1), ('SPORTS', 1), ('TarHeelFamily', 1)]\n",
      "\n"
     ]
    }
   ],
   "source": [
    "from collections import Counter\n",
    "for i in [words, screen_names, hashtags]:\n",
    "    c = Counter(i)\n",
    "    print(c.most_common()[:10]) # look at top-10\n",
    "    print()"
   ]
  },
  {
   "cell_type": "code",
   "execution_count": 26,
   "metadata": {
    "collapsed": true
   },
   "outputs": [],
   "source": [
    "import nltk\n",
    "import string"
   ]
  },
  {
   "cell_type": "code",
   "execution_count": 27,
   "metadata": {
    "collapsed": true
   },
   "outputs": [],
   "source": [
    "search_terms = ['NBA', 'nba', 'Draft', 'draft']\n",
    "stopwords = nltk.corpus.stopwords.words('english')+list(string.punctuation)+search_terms"
   ]
  },
  {
   "cell_type": "code",
   "execution_count": 28,
   "metadata": {
    "collapsed": true
   },
   "outputs": [],
   "source": [
    "words = [i for i in words if i not in stopwords]"
   ]
  },
  {
   "cell_type": "code",
   "execution_count": 29,
   "metadata": {},
   "outputs": [
    {
     "name": "stdout",
     "output_type": "stream",
     "text": [
      "[('RT', 31), ('2017', 12), ('Markelle', 12), ('#NBA', 11), ('Fultz', 10), ('trade', 9), ('via', 9), ('&amp;', 8), ('GM:', 8), ('Draft:', 8)]\n",
      "\n",
      "[('HoopsHabit', 5), ('NBA2K', 4), ('SBNation', 4), ('1070Bruno', 4), ('dandakich', 4), ('UW_MBB', 3), ('MarkelleF', 3), ('ChristianCaple', 3), ('ProducerKyle', 3), ('ChuckAndPuckKJR', 3)]\n",
      "\n",
      "[('NBA', 11), ('NBADraft', 7), ('Pacers', 4), ('2017_NBA_Draft', 3), ('Draft', 2), ('Knicks', 2), ('Sixers', 2), ('ATLHawks', 1), ('SPORTS', 1), ('TarHeelFamily', 1)]\n",
      "\n"
     ]
    }
   ],
   "source": [
    "for i in [words, screen_names, hashtags]:\n",
    "    c = Counter(i)\n",
    "    print(c.most_common()[:10]) # look at top-10\n",
    "    print()"
   ]
  },
  {
   "cell_type": "code",
   "execution_count": 30,
   "metadata": {
    "collapsed": true
   },
   "outputs": [],
   "source": [
    "import time"
   ]
  },
  {
   "cell_type": "code",
   "execution_count": 31,
   "metadata": {
    "collapsed": true
   },
   "outputs": [],
   "source": [
    "?time.sleep"
   ]
  },
  {
   "cell_type": "code",
   "execution_count": 32,
   "metadata": {},
   "outputs": [
    {
     "name": "stdout",
     "output_type": "stream",
     "text": [
      "56\n",
      "1\n",
      "6\n",
      "11\n"
     ]
    }
   ],
   "source": [
    "i = 1\n",
    "while(i<5):\n",
    "    print(time.localtime().tm_sec)\n",
    "    time.sleep(5)\n",
    "    i+=1"
   ]
  },
  {
   "cell_type": "code",
   "execution_count": 35,
   "metadata": {},
   "outputs": [
    {
     "data": {
      "text/plain": [
       "[{'as_of': '2017-06-23T18:29:36Z',\n",
       "  'created_at': '2017-06-23T18:25:02Z',\n",
       "  'locations': [{'name': 'United States', 'woeid': 23424977}],\n",
       "  'trends': [{'name': 'Saad',\n",
       "    'promoted_content': None,\n",
       "    'query': 'Saad',\n",
       "    'tweet_volume': 59093,\n",
       "    'url': 'http://twitter.com/search?q=Saad'},\n",
       "   {'name': 'Johnny Depp',\n",
       "    'promoted_content': None,\n",
       "    'query': '%22Johnny+Depp%22',\n",
       "    'tweet_volume': 176356,\n",
       "    'url': 'http://twitter.com/search?q=%22Johnny+Depp%22'},\n",
       "   {'name': 'Dayton Air Show',\n",
       "    'promoted_content': None,\n",
       "    'query': '%22Dayton+Air+Show%22',\n",
       "    'tweet_volume': None,\n",
       "    'url': 'http://twitter.com/search?q=%22Dayton+Air+Show%22'},\n",
       "   {'name': 'Hjalmarsson',\n",
       "    'promoted_content': None,\n",
       "    'query': 'Hjalmarsson',\n",
       "    'tweet_volume': None,\n",
       "    'url': 'http://twitter.com/search?q=Hjalmarsson'},\n",
       "   {'name': 'Stepan',\n",
       "    'promoted_content': None,\n",
       "    'query': 'Stepan',\n",
       "    'tweet_volume': 10726,\n",
       "    'url': 'http://twitter.com/search?q=Stepan'},\n",
       "   {'name': 'Gabe Pressman',\n",
       "    'promoted_content': None,\n",
       "    'query': '%22Gabe+Pressman%22',\n",
       "    'tweet_volume': None,\n",
       "    'url': 'http://twitter.com/search?q=%22Gabe+Pressman%22'},\n",
       "   {'name': 'Tornado Watch',\n",
       "    'promoted_content': None,\n",
       "    'query': '%22Tornado+Watch%22',\n",
       "    'tweet_volume': None,\n",
       "    'url': 'http://twitter.com/search?q=%22Tornado+Watch%22'},\n",
       "   {'name': 'ON SALE NOW',\n",
       "    'promoted_content': None,\n",
       "    'query': '%22ON+SALE+NOW%22',\n",
       "    'tweet_volume': 15998,\n",
       "    'url': 'http://twitter.com/search?q=%22ON+SALE+NOW%22'},\n",
       "   {'name': 'Stan Bowman',\n",
       "    'promoted_content': None,\n",
       "    'query': '%22Stan+Bowman%22',\n",
       "    'tweet_volume': None,\n",
       "    'url': 'http://twitter.com/search?q=%22Stan+Bowman%22'},\n",
       "   {'name': 'Live Asian',\n",
       "    'promoted_content': None,\n",
       "    'query': '%22Live+Asian%22',\n",
       "    'tweet_volume': None,\n",
       "    'url': 'http://twitter.com/search?q=%22Live+Asian%22'},\n",
       "   {'name': 'DeAngelo',\n",
       "    'promoted_content': None,\n",
       "    'query': 'DeAngelo',\n",
       "    'tweet_volume': None,\n",
       "    'url': 'http://twitter.com/search?q=DeAngelo'},\n",
       "   {'name': 'Unlocked  Urban',\n",
       "    'promoted_content': None,\n",
       "    'query': '%22Unlocked++Urban%22',\n",
       "    'tweet_volume': None,\n",
       "    'url': 'http://twitter.com/search?q=%22Unlocked++Urban%22'},\n",
       "   {'name': 'Nebraska Democratic Party',\n",
       "    'promoted_content': None,\n",
       "    'query': '%22Nebraska+Democratic+Party%22',\n",
       "    'tweet_volume': None,\n",
       "    'url': 'http://twitter.com/search?q=%22Nebraska+Democratic+Party%22'},\n",
       "   {'name': 'GLOW',\n",
       "    'promoted_content': None,\n",
       "    'query': 'GLOW',\n",
       "    'tweet_volume': 44146,\n",
       "    'url': 'http://twitter.com/search?q=GLOW'},\n",
       "   {'name': 'Skyward Sword Link',\n",
       "    'promoted_content': None,\n",
       "    'query': '%22Skyward+Sword+Link%22',\n",
       "    'tweet_volume': None,\n",
       "    'url': 'http://twitter.com/search?q=%22Skyward+Sword+Link%22'},\n",
       "   {'name': 'Lacazette',\n",
       "    'promoted_content': None,\n",
       "    'query': 'Lacazette',\n",
       "    'tweet_volume': 27780,\n",
       "    'url': 'http://twitter.com/search?q=Lacazette'},\n",
       "   {'name': 'Hamonic',\n",
       "    'promoted_content': None,\n",
       "    'query': 'Hamonic',\n",
       "    'tweet_volume': None,\n",
       "    'url': 'http://twitter.com/search?q=Hamonic'},\n",
       "   {'name': 'Doug Fister',\n",
       "    'promoted_content': None,\n",
       "    'query': '%22Doug+Fister%22',\n",
       "    'tweet_volume': None,\n",
       "    'url': 'http://twitter.com/search?q=%22Doug+Fister%22'},\n",
       "   {'name': 'Dan Evans',\n",
       "    'promoted_content': None,\n",
       "    'query': '%22Dan+Evans%22',\n",
       "    'tweet_volume': None,\n",
       "    'url': 'http://twitter.com/search?q=%22Dan+Evans%22'},\n",
       "   {'name': 'Connor Murphy',\n",
       "    'promoted_content': None,\n",
       "    'query': '%22Connor+Murphy%22',\n",
       "    'tweet_volume': None,\n",
       "    'url': 'http://twitter.com/search?q=%22Connor+Murphy%22'},\n",
       "   {'name': 'Anton Forsberg',\n",
       "    'promoted_content': None,\n",
       "    'query': '%22Anton+Forsberg%22',\n",
       "    'tweet_volume': None,\n",
       "    'url': 'http://twitter.com/search?q=%22Anton+Forsberg%22'},\n",
       "   {'name': 'Modern Warfare Remastered',\n",
       "    'promoted_content': None,\n",
       "    'query': '%22Modern+Warfare+Remastered%22',\n",
       "    'tweet_volume': None,\n",
       "    'url': 'http://twitter.com/search?q=%22Modern+Warfare+Remastered%22'}]}]"
      ]
     },
     "execution_count": 35,
     "metadata": {},
     "output_type": "execute_result"
    }
   ],
   "source": [
    "twitter_api.trends.place(_id='23424977', exclude='hashtags')"
   ]
  },
  {
   "cell_type": "code",
   "execution_count": 57,
   "metadata": {},
   "outputs": [],
   "source": [
    "import matplotlib.pyplot as plt\n",
    "%matplotlib inline\n",
    "trends = {}\n",
    "woeid='23424977'\n",
    "exclude=None#'hashtags'\n",
    "how_long=1\n",
    "while (how_long > 0):\n",
    "    cur = twitter_api.trends.place(_id=woeid, exclude=exclude)[0]\n",
    "    # print(json.dumps(cur, indent=1))\n",
    "    trends_json = cur['trends']\n",
    "    for i in trends_json:\n",
    "    # if tred is not in dict, add it, otherwise update count\t\n",
    "        if i['name'] not in trends:\n",
    "            if i['tweet_volume']:\n",
    "                trends[i['name']] = i['tweet_volume']\n",
    "        elif i['name'] in trends:\n",
    "            trends[i['name']] = i['tweet_volume']\n",
    "    if how_long > 1:\n",
    "        time.sleep(3)\n",
    "    how_long -= 1\n",
    "#     print(trends)\n",
    "    time_ = cur['as_of'].split('T')\n",
    "#     print(time_)\n",
    "# print(cur['as_of'])"
   ]
  },
  {
   "cell_type": "code",
   "execution_count": 71,
   "metadata": {},
   "outputs": [
    {
     "data": {
      "image/png": "[encoded data removed]",
      "text/plain": [
       "<matplotlib.figure.Figure at 0x1db6eb116d8>"
      ]
     },
     "metadata": {},
     "output_type": "display_data"
    }
   ],
   "source": [
    "plt.figure(figsize=(len(trends)*3,20))\n",
    "scaled_values = [i/1000 for i in trends.values()]\n",
    "plt.bar(range(len(trends)), scaled_values, align='center')\n",
    "plt.xticks(range(len(trends)), trends.keys())\n",
    "plt.ylim(0,max(scaled_values)+10)\n",
    "plt.ylabel('number of tweets in 1000s')\n",
    "plt.title('Trending topics for %s' % time_[0])\n",
    "plt.show()"
   ]
  },
  {
   "cell_type": "code",
   "execution_count": 76,
   "metadata": {},
   "outputs": [
    {
     "data": {
      "text/plain": [
       "'Fri Jun 23 13:40:45 2017'"
      ]
     },
     "execution_count": 76,
     "metadata": {},
     "output_type": "execute_result"
    }
   ],
   "source": [
    "time.ctime()"
   ]
  },
  {
   "cell_type": "code",
   "execution_count": 105,
   "metadata": {},
   "outputs": [
    {
     "ename": "AttributeError",
     "evalue": "'list' object has no attribute 'drop'",
     "output_type": "error",
     "traceback": [
      "\u001b[1;31m---------------------------------------------------------------------------\u001b[0m",
      "\u001b[1;31mAttributeError\u001b[0m                            Traceback (most recent call last)",
      "\u001b[1;32m<ipython-input-105-6f5c657a6a4b>\u001b[0m in \u001b[0;36m<module>\u001b[1;34m()\u001b[0m\n\u001b[1;32m----> 1\u001b[1;33m \u001b[1;34m' '\u001b[0m\u001b[1;33m.\u001b[0m\u001b[0mjoin\u001b[0m\u001b[1;33m(\u001b[0m\u001b[0mtime\u001b[0m\u001b[1;33m.\u001b[0m\u001b[0mctime\u001b[0m\u001b[1;33m(\u001b[0m\u001b[1;33m)\u001b[0m\u001b[1;33m.\u001b[0m\u001b[0msplit\u001b[0m\u001b[1;33m(\u001b[0m\u001b[1;33m)\u001b[0m\u001b[1;33m.\u001b[0m\u001b[0mdrop\u001b[0m\u001b[1;33m(\u001b[0m\u001b[1;36m3\u001b[0m\u001b[1;33m)\u001b[0m\u001b[1;33m)\u001b[0m\u001b[1;31m#+time.ctime().split()[-1]\u001b[0m\u001b[1;33m\u001b[0m\u001b[0m\n\u001b[0m",
      "\u001b[1;31mAttributeError\u001b[0m: 'list' object has no attribute 'drop'"
     ]
    }
   ],
   "source": [
    "# ' '.join(time.ctime().split())#+time.ctime().split()[-1]"
   ]
  },
  {
   "cell_type": "code",
   "execution_count": 114,
   "metadata": {},
   "outputs": [
    {
     "ename": "TypeError",
     "evalue": "list indices must be integers or slices, not function",
     "output_type": "error",
     "traceback": [
      "\u001b[1;31m---------------------------------------------------------------------------\u001b[0m",
      "\u001b[1;31mTypeError\u001b[0m                                 Traceback (most recent call last)",
      "\u001b[1;32m<ipython-input-114-9e5593ebce3c>\u001b[0m in \u001b[0;36m<module>\u001b[1;34m()\u001b[0m\n\u001b[1;32m----> 1\u001b[1;33m \u001b[0mtime\u001b[0m\u001b[1;33m.\u001b[0m\u001b[0mctime\u001b[0m\u001b[1;33m(\u001b[0m\u001b[1;33m)\u001b[0m\u001b[1;33m.\u001b[0m\u001b[0msplit\u001b[0m\u001b[1;33m(\u001b[0m\u001b[1;33m)\u001b[0m\u001b[1;33m[\u001b[0m\u001b[1;32mlambda\u001b[0m \u001b[0mx\u001b[0m\u001b[1;33m:\u001b[0m \u001b[0mlen\u001b[0m\u001b[1;33m(\u001b[0m\u001b[0mx\u001b[0m\u001b[1;33m)\u001b[0m\u001b[1;33m>\u001b[0m\u001b[1;36m4\u001b[0m\u001b[1;33m]\u001b[0m\u001b[1;33m\u001b[0m\u001b[0m\n\u001b[0m",
      "\u001b[1;31mTypeError\u001b[0m: list indices must be integers or slices, not function"
     ]
    }
   ],
   "source": [
    "time.ctime().split()"
   ]
  },
  {
   "cell_type": "code",
   "execution_count": 122,
   "metadata": {},
   "outputs": [
    {
     "data": {
      "text/plain": [
       "[2, 3, 4]"
      ]
     },
     "execution_count": 122,
     "metadata": {},
     "output_type": "execute_result"
    }
   ],
   "source": [
    "list(map(lambda x: x+1, [1,2,3]))"
   ]
  },
  {
   "cell_type": "code",
   "execution_count": 132,
   "metadata": {},
   "outputs": [],
   "source": [
    "t = time.ctime().split()\n",
    "cur_date = ' '.join(t[:3]+[t[-1]])"
   ]
  },
  {
   "cell_type": "code",
   "execution_count": 133,
   "metadata": {},
   "outputs": [
    {
     "data": {
      "text/plain": [
       "'Fri Jun 23 2017'"
      ]
     },
     "execution_count": 133,
     "metadata": {},
     "output_type": "execute_result"
    }
   ],
   "source": [
    "cur_date"
   ]
  },
  {
   "cell_type": "code",
   "execution_count": null,
   "metadata": {
    "collapsed": true
   },
   "outputs": [],
   "source": []
  }
 ],
 "metadata": {
  "kernelspec": {
   "display_name": "Python 3",
   "language": "python",
   "name": "python3"
  },
  "language_info": {
   "codemirror_mode": {
    "name": "ipython",
    "version": 3
   },
   "file_extension": ".py",
   "mimetype": "text/x-python",
   "name": "python",
   "nbconvert_exporter": "python",
   "pygments_lexer": "ipython3",
   "version": "3.5.3"
  }
 },
 "nbformat": 4,
 "nbformat_minor": 2
}
