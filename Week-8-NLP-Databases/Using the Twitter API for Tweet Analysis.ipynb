{
 "cells": [
  {
   "cell_type": "code",
   "execution_count": null,
   "metadata": {
    "collapsed": true
   },
   "outputs": [],
   "source": []
  },
  {
   "cell_type": "markdown",
   "metadata": {},
   "source": [
    "# Twitter data\n",
    "\n",
    "## Copyright and Licensing\n",
    "\n",
    "You are free to use or adapt this notebook for any purpose you'd like. However, please respect the [Simplified BSD License](https://github.com/ptwobrussell/Mining-the-Social-Web-2nd-Edition/blob/master/LICENSE.txt) that governs its use."
   ]
  },
  {
   "cell_type": "markdown",
   "metadata": {},
   "source": [
    "# Twitter API Access\n",
    "\n",
    "Twitter implements OAuth 1.0A as its standard authentication mechanism, and in order to use it to make requests to Twitter's API, you'll need to go to https://dev.twitter.com/apps and create a sample application.\n",
    "\n",
    "Choose any name for your application, write a description and use `http://google.com` for the website.\n",
    "\n",
    "Under **Key and Access Tokens**, there are four primary identifiers you'll need to note for an OAuth 1.0A workflow: \n",
    "* consumer key, \n",
    "* consumer secret, \n",
    "* access token, and \n",
    "* access token secret (Click on Create Access Token to create those).\n",
    "\n",
    "Note that you will need an ordinary Twitter account in order to login, create an app, and get these credentials."
   ]
  },
  {
   "cell_type": "markdown",
   "metadata": {},
   "source": [
    "The first time you execute the notebook, add all credentials so that you can save them in the `pkl` file, then you can remove the secret keys from the notebook because they will just be loaded from the `pkl` file.\n",
    "\n",
    "The `pkl` file contains sensitive information that can be used to take control of your twitter acccount, **do not share it**."
   ]
  },
  {
   "cell_type": "code",
   "execution_count": 1,
   "metadata": {
    "collapsed": true
   },
   "outputs": [],
   "source": [
    "import pickle\n",
    "import os"
   ]
  },
  {
   "cell_type": "code",
   "execution_count": 2,
   "metadata": {
    "collapsed": true
   },
   "outputs": [],
   "source": [
    "if not os.path.exists('secret_twitter_credentials.pkl'):\n",
    "    Twitter={}\n",
    "    Twitter['Consumer Key'] = 'C0x2fuPeDPRaK8C1ZN4QZB6sP'\n",
    "    Twitter['Consumer Secret'] = 'n4CfVoB7dUiKkjRZRthW4OeZjMmR9F9cSZH1W7cJEwxhdHij7o'\n",
    "    Twitter['Access Token'] = '61698767-KxhQCjYoHeBsQS0cJLf75N5LSqMy3COubNHk5mld8'\n",
    "    Twitter['Access Token Secret'] = 'FfsLec5IcmpfPlAYLWfieWyy6I1Y6UsXgksMfHHQnwfXq'\n",
    "    with open('secret_twitter_credentials.pkl','wb') as f:\n",
    "        pickle.dump(Twitter, f)\n",
    "else:\n",
    "    Twitter=pickle.load(open('secret_twitter_credentials.pkl','rb'))"
   ]
  },
  {
   "cell_type": "markdown",
   "metadata": {},
   "source": [
    "Install the `twitter` package to interface with the Twitter API"
   ]
  },
  {
   "cell_type": "code",
   "execution_count": 3,
   "metadata": {
    "collapsed": true
   },
   "outputs": [],
   "source": [
    "# !pip install twitter"
   ]
  },
  {
   "cell_type": "markdown",
   "metadata": {},
   "source": [
    "## Example 1. Authorizing an application to access Twitter account data"
   ]
  },
  {
   "cell_type": "code",
   "execution_count": 4,
   "metadata": {},
   "outputs": [
    {
     "name": "stdout",
     "output_type": "stream",
     "text": [
      "<twitter.api.Twitter object at 0x000001DA4833D550>\n"
     ]
    }
   ],
   "source": [
    "import twitter\n",
    "\n",
    "auth = twitter.oauth.OAuth(Twitter['Access Token'],\n",
    "                           Twitter['Access Token Secret'],\n",
    "                           Twitter['Consumer Key'],\n",
    "                           Twitter['Consumer Secret'])\n",
    "\n",
    "twitter_api = twitter.Twitter(auth=auth)\n",
    "\n",
    "# Nothing to see by displaying twitter_api except that it's now a\n",
    "# defined variable\n",
    "\n",
    "print(twitter_api)"
   ]
  },
  {
   "cell_type": "code",
   "execution_count": 5,
   "metadata": {
    "collapsed": true
   },
   "outputs": [],
   "source": [
    "?twitter"
   ]
  },
  {
   "cell_type": "markdown",
   "metadata": {},
   "source": [
    "## Example 2. Retrieving trends"
   ]
  },
  {
   "cell_type": "markdown",
   "metadata": {},
   "source": [
    "Twitter identifies locations using the Yahoo! Where On Earth ID.\n",
    "\n",
    "The Yahoo! Where On Earth ID for the entire world is 1.\n",
    "See https://dev.twitter.com/docs/api/1.1/get/trends/place and\n",
    "http://developer.yahoo.com/geo/geoplanet/\n",
    "\n",
    "look at the BOSS placefinder here: https://developer.yahoo.com/boss/placefinder/"
   ]
  },
  {
   "cell_type": "code",
   "execution_count": 6,
   "metadata": {
    "collapsed": true
   },
   "outputs": [],
   "source": [
    "WORLD_WOE_ID = 1\n",
    "US_WOE_ID = 23424977"
   ]
  },
  {
   "cell_type": "markdown",
   "metadata": {},
   "source": [
    "Look for the WOEID for [san-diego](http://woeid.rosselliot.co.nz/lookup/san%20diego%20%20ca)\n",
    "\n",
    "You can change it to another location."
   ]
  },
  {
   "cell_type": "code",
   "execution_count": 7,
   "metadata": {
    "collapsed": true
   },
   "outputs": [],
   "source": [
    "LOCAL_WOE_ID=2487889\n",
    "# ScottsdaleWOE = 2490057\n",
    "# Prefix ID with the underscore for query string parameterization.\n",
    "# Without the underscore, the twitter package appends the ID value\n",
    "# to the URL itself as a special case keyword argument.\n",
    "\n",
    "world_trends = twitter_api.trends.place(_id=WORLD_WOE_ID)\n",
    "us_trends = twitter_api.trends.place(_id=US_WOE_ID)\n",
    "local_trends = twitter_api.trends.place(_id=LOCAL_WOE_ID)"
   ]
  },
  {
   "cell_type": "code",
   "execution_count": 8,
   "metadata": {},
   "outputs": [
    {
     "data": {
      "text/plain": [
       "[{'as_of': '2017-06-19T20:41:00Z',\n",
       "  'created_at': '2017-06-19T20:35:15Z',\n",
       "  'locations': [{'name': 'Worldwide', 'woeid': 1}],\n",
       "  'trends': [{'name': '#SonKezİçerdeyiz',\n",
       "    'promoted_content': None,\n",
       "    'query': '%23SonKez%C4%B0%C3%A7erdeyiz',\n",
       "    'tweet_volume': 41242,\n",
       "    'url': 'http://twitter.com/search?q=%23SonKez%C4%B0%C3%A7erdeyiz'},\n",
       "   {'name': '#مرسيدس_نخبه_العود6',\n",
       "    'promoted_content': None,\n",
       "    'query': '%23%D9%85%D8%B1%D8%B3%D9%8A%D8%AF%D8%B3_%D9%86%D8%AE%D8%A8%D9%87_%D8%A7%D9%84%D8%B9%D9%88%D8%AF6',\n",
       "    'tweet_volume': 105340,\n",
       "    'url': 'http://twitter.com/search?q=%23%D9%85%D8%B1%D8%B3%D9%8A%D8%AF%D8%B3_%D9%86%D8%AE%D8%A8%D9%87_%D8%A7%D9%84%D8%B9%D9%88%D8%AF6'},\n",
       "   {'name': '#خربين_هلالي_اربع_سنوات',\n",
       "    'promoted_content': None,\n",
       "    'query': '%23%D8%AE%D8%B1%D8%A8%D9%8A%D9%86_%D9%87%D9%84%D8%A7%D9%84%D9%8A_%D8%A7%D8%B1%D8%A8%D8%B9_%D8%B3%D9%86%D9%88%D8%A7%D8%AA',\n",
       "    'tweet_volume': 39071,\n",
       "    'url': 'http://twitter.com/search?q=%23%D8%AE%D8%B1%D8%A8%D9%8A%D9%86_%D9%87%D9%84%D8%A7%D9%84%D9%8A_%D8%A7%D8%B1%D8%A8%D8%B9_%D8%B3%D9%86%D9%88%D8%A7%D8%AA'},\n",
       "   {'name': '#SözümüzBitmedi',\n",
       "    'promoted_content': None,\n",
       "    'query': '%23S%C3%B6z%C3%BCm%C3%BCzBitmedi',\n",
       "    'tweet_volume': 44571,\n",
       "    'url': 'http://twitter.com/search?q=%23S%C3%B6z%C3%BCm%C3%BCzBitmedi'},\n",
       "   {'name': '#DaddyYankeeEH',\n",
       "    'promoted_content': None,\n",
       "    'query': '%23DaddyYankeeEH',\n",
       "    'tweet_volume': None,\n",
       "    'url': 'http://twitter.com/search?q=%23DaddyYankeeEH'},\n",
       "   {'name': 'Carrie Fisher',\n",
       "    'promoted_content': None,\n",
       "    'query': '%22Carrie+Fisher%22',\n",
       "    'tweet_volume': 50487,\n",
       "    'url': 'http://twitter.com/search?q=%22Carrie+Fisher%22'},\n",
       "   {'name': 'Brian Cant',\n",
       "    'promoted_content': None,\n",
       "    'query': '%22Brian+Cant%22',\n",
       "    'tweet_volume': 19793,\n",
       "    'url': 'http://twitter.com/search?q=%22Brian+Cant%22'},\n",
       "   {'name': 'Vic Mensa',\n",
       "    'promoted_content': None,\n",
       "    'query': '%22Vic+Mensa%22',\n",
       "    'tweet_volume': None,\n",
       "    'url': 'http://twitter.com/search?q=%22Vic+Mensa%22'},\n",
       "   {'name': 'Green Day',\n",
       "    'promoted_content': None,\n",
       "    'query': '%22Green+Day%22',\n",
       "    'tweet_volume': 30486,\n",
       "    'url': 'http://twitter.com/search?q=%22Green+Day%22'},\n",
       "   {'name': 'Shane Doan',\n",
       "    'promoted_content': None,\n",
       "    'query': '%22Shane+Doan%22',\n",
       "    'tweet_volume': None,\n",
       "    'url': 'http://twitter.com/search?q=%22Shane+Doan%22'},\n",
       "   {'name': 'İlhan Mansız',\n",
       "    'promoted_content': None,\n",
       "    'query': '%22%C4%B0lhan+Mans%C4%B1z%22',\n",
       "    'tweet_volume': 10337,\n",
       "    'url': 'http://twitter.com/search?q=%22%C4%B0lhan+Mans%C4%B1z%22'},\n",
       "   {'name': 'Gleyber Torres',\n",
       "    'promoted_content': None,\n",
       "    'query': '%22Gleyber+Torres%22',\n",
       "    'tweet_volume': None,\n",
       "    'url': 'http://twitter.com/search?q=%22Gleyber+Torres%22'},\n",
       "   {'name': 'Jared Kushner',\n",
       "    'promoted_content': None,\n",
       "    'query': '%22Jared+Kushner%22',\n",
       "    'tweet_volume': 32877,\n",
       "    'url': 'http://twitter.com/search?q=%22Jared+Kushner%22'},\n",
       "   {'name': 'Maradona',\n",
       "    'promoted_content': None,\n",
       "    'query': 'Maradona',\n",
       "    'tweet_volume': 29039,\n",
       "    'url': 'http://twitter.com/search?q=Maradona'},\n",
       "   {'name': 'Hirving Lozano',\n",
       "    'promoted_content': None,\n",
       "    'query': '%22Hirving+Lozano%22',\n",
       "    'tweet_volume': None,\n",
       "    'url': 'http://twitter.com/search?q=%22Hirving+Lozano%22'},\n",
       "   {'name': 'Darren Osborne',\n",
       "    'promoted_content': None,\n",
       "    'query': '%22Darren+Osborne%22',\n",
       "    'tweet_volume': 17551,\n",
       "    'url': 'http://twitter.com/search?q=%22Darren+Osborne%22'},\n",
       "   {'name': 'Topo Chico',\n",
       "    'promoted_content': None,\n",
       "    'query': '%22Topo+Chico%22',\n",
       "    'tweet_volume': None,\n",
       "    'url': 'http://twitter.com/search?q=%22Topo+Chico%22'},\n",
       "   {'name': '#GobiernoEspía',\n",
       "    'promoted_content': None,\n",
       "    'query': '%23GobiernoEsp%C3%ADa',\n",
       "    'tweet_volume': 53950,\n",
       "    'url': 'http://twitter.com/search?q=%23GobiernoEsp%C3%ADa'},\n",
       "   {'name': '#ADP2017',\n",
       "    'promoted_content': None,\n",
       "    'query': '%23ADP2017',\n",
       "    'tweet_volume': None,\n",
       "    'url': 'http://twitter.com/search?q=%23ADP2017'},\n",
       "   {'name': '#POLSWE',\n",
       "    'promoted_content': None,\n",
       "    'query': '%23POLSWE',\n",
       "    'tweet_volume': None,\n",
       "    'url': 'http://twitter.com/search?q=%23POLSWE'},\n",
       "   {'name': '#مسابقه_الوليد_شفاه_الله_24',\n",
       "    'promoted_content': None,\n",
       "    'query': '%23%D9%85%D8%B3%D8%A7%D8%A8%D9%82%D9%87_%D8%A7%D9%84%D9%88%D9%84%D9%8A%D8%AF_%D8%B4%D9%81%D8%A7%D9%87_%D8%A7%D9%84%D9%84%D9%87_24',\n",
       "    'tweet_volume': 110667,\n",
       "    'url': 'http://twitter.com/search?q=%23%D9%85%D8%B3%D8%A7%D8%A8%D9%82%D9%87_%D8%A7%D9%84%D9%88%D9%84%D9%8A%D8%AF_%D8%B4%D9%81%D8%A7%D9%87_%D8%A7%D9%84%D9%84%D9%87_24'},\n",
       "   {'name': '#19Jun',\n",
       "    'promoted_content': None,\n",
       "    'query': '%2319Jun',\n",
       "    'tweet_volume': 258867,\n",
       "    'url': 'http://twitter.com/search?q=%2319Jun'},\n",
       "   {'name': '#şehitoluruz',\n",
       "    'promoted_content': None,\n",
       "    'query': '%23%C5%9Fehitoluruz',\n",
       "    'tweet_volume': 20216,\n",
       "    'url': 'http://twitter.com/search?q=%23%C5%9Fehitoluruz'},\n",
       "   {'name': '#Panorama',\n",
       "    'promoted_content': None,\n",
       "    'query': '%23Panorama',\n",
       "    'tweet_volume': None,\n",
       "    'url': 'http://twitter.com/search?q=%23Panorama'},\n",
       "   {'name': '#ArgentinaNeedsMoreDates',\n",
       "    'promoted_content': None,\n",
       "    'query': '%23ArgentinaNeedsMoreDates',\n",
       "    'tweet_volume': 22280,\n",
       "    'url': 'http://twitter.com/search?q=%23ArgentinaNeedsMoreDates'},\n",
       "   {'name': '#SomosPuebloSoberano',\n",
       "    'promoted_content': None,\n",
       "    'query': '%23SomosPuebloSoberano',\n",
       "    'tweet_volume': 41908,\n",
       "    'url': 'http://twitter.com/search?q=%23SomosPuebloSoberano'},\n",
       "   {'name': '#Juneteenth',\n",
       "    'promoted_content': None,\n",
       "    'query': '%23Juneteenth',\n",
       "    'tweet_volume': 78158,\n",
       "    'url': 'http://twitter.com/search?q=%23Juneteenth'},\n",
       "   {'name': '#GFBgeliyor',\n",
       "    'promoted_content': None,\n",
       "    'query': '%23GFBgeliyor',\n",
       "    'tweet_volume': None,\n",
       "    'url': 'http://twitter.com/search?q=%23GFBgeliyor'},\n",
       "   {'name': '#CrisisVocacional',\n",
       "    'promoted_content': None,\n",
       "    'query': '%23CrisisVocacional',\n",
       "    'tweet_volume': None,\n",
       "    'url': 'http://twitter.com/search?q=%23CrisisVocacional'},\n",
       "   {'name': '#МракСосётвИнсте',\n",
       "    'promoted_content': None,\n",
       "    'query': '%23%D0%9C%D1%80%D0%B0%D0%BA%D0%A1%D0%BE%D1%81%D1%91%D1%82%D0%B2%D0%98%D0%BD%D1%81%D1%82%D0%B5',\n",
       "    'tweet_volume': None,\n",
       "    'url': 'http://twitter.com/search?q=%23%D0%9C%D1%80%D0%B0%D0%BA%D0%A1%D0%BE%D1%81%D1%91%D1%82%D0%B2%D0%98%D0%BD%D1%81%D1%82%D0%B5'},\n",
       "   {'name': '#EstouCansadoDe',\n",
       "    'promoted_content': None,\n",
       "    'query': '%23EstouCansadoDe',\n",
       "    'tweet_volume': 15188,\n",
       "    'url': 'http://twitter.com/search?q=%23EstouCansadoDe'},\n",
       "   {'name': '#ImagineDragonsEvolve',\n",
       "    'promoted_content': None,\n",
       "    'query': '%23ImagineDragonsEvolve',\n",
       "    'tweet_volume': None,\n",
       "    'url': 'http://twitter.com/search?q=%23ImagineDragonsEvolve'},\n",
       "   {'name': '#FirstDates364',\n",
       "    'promoted_content': None,\n",
       "    'query': '%23FirstDates364',\n",
       "    'tweet_volume': None,\n",
       "    'url': 'http://twitter.com/search?q=%23FirstDates364'},\n",
       "   {'name': '#SiAlgoLeFaltaAMiVidaEs',\n",
       "    'promoted_content': None,\n",
       "    'query': '%23SiAlgoLeFaltaAMiVidaEs',\n",
       "    'tweet_volume': None,\n",
       "    'url': 'http://twitter.com/search?q=%23SiAlgoLeFaltaAMiVidaEs'},\n",
       "   {'name': '#AUSGER',\n",
       "    'promoted_content': None,\n",
       "    'query': '%23AUSGER',\n",
       "    'tweet_volume': 30842,\n",
       "    'url': 'http://twitter.com/search?q=%23AUSGER'},\n",
       "   {'name': '#NationalMartiniDay',\n",
       "    'promoted_content': None,\n",
       "    'query': '%23NationalMartiniDay',\n",
       "    'tweet_volume': None,\n",
       "    'url': 'http://twitter.com/search?q=%23NationalMartiniDay'},\n",
       "   {'name': '#اربح_ايفون7_مع_زايد',\n",
       "    'promoted_content': None,\n",
       "    'query': '%23%D8%A7%D8%B1%D8%A8%D8%AD_%D8%A7%D9%8A%D9%81%D9%88%D9%867_%D9%85%D8%B9_%D8%B2%D8%A7%D9%8A%D8%AF',\n",
       "    'tweet_volume': 21642,\n",
       "    'url': 'http://twitter.com/search?q=%23%D8%A7%D8%B1%D8%A8%D8%AD_%D8%A7%D9%8A%D9%81%D9%88%D9%867_%D9%85%D8%B9_%D8%B2%D8%A7%D9%8A%D8%AF'},\n",
       "   {'name': '#elintermedio',\n",
       "    'promoted_content': None,\n",
       "    'query': '%23elintermedio',\n",
       "    'tweet_volume': None,\n",
       "    'url': 'http://twitter.com/search?q=%23elintermedio'},\n",
       "   {'name': '#heatwaveuk',\n",
       "    'promoted_content': None,\n",
       "    'query': '%23heatwaveuk',\n",
       "    'tweet_volume': 38506,\n",
       "    'url': 'http://twitter.com/search?q=%23heatwaveuk'},\n",
       "   {'name': '#TúTanFresaY',\n",
       "    'promoted_content': None,\n",
       "    'query': '%23T%C3%BATanFresaY',\n",
       "    'tweet_volume': 19610,\n",
       "    'url': 'http://twitter.com/search?q=%23T%C3%BATanFresaY'},\n",
       "   {'name': '#MafiaSdvJaéSegundaE',\n",
       "    'promoted_content': None,\n",
       "    'query': '%23MafiaSdvJa%C3%A9SegundaE',\n",
       "    'tweet_volume': None,\n",
       "    'url': 'http://twitter.com/search?q=%23MafiaSdvJa%C3%A9SegundaE'},\n",
       "   {'name': '#KNJMONDAY',\n",
       "    'promoted_content': None,\n",
       "    'query': '%23KNJMONDAY',\n",
       "    'tweet_volume': 10686,\n",
       "    'url': 'http://twitter.com/search?q=%23KNJMONDAY'},\n",
       "   {'name': '#DavamızDuamızBir',\n",
       "    'promoted_content': None,\n",
       "    'query': '%23Davam%C4%B1zDuam%C4%B1zBir',\n",
       "    'tweet_volume': 11346,\n",
       "    'url': 'http://twitter.com/search?q=%23Davam%C4%B1zDuam%C4%B1zBir'},\n",
       "   {'name': '#TiniEnInfobae',\n",
       "    'promoted_content': None,\n",
       "    'query': '%23TiniEnInfobae',\n",
       "    'tweet_volume': None,\n",
       "    'url': 'http://twitter.com/search?q=%23TiniEnInfobae'},\n",
       "   {'name': '#projektlady',\n",
       "    'promoted_content': None,\n",
       "    'query': '%23projektlady',\n",
       "    'tweet_volume': None,\n",
       "    'url': 'http://twitter.com/search?q=%23projektlady'},\n",
       "   {'name': '#BB19',\n",
       "    'promoted_content': None,\n",
       "    'query': '%23BB19',\n",
       "    'tweet_volume': 46539,\n",
       "    'url': 'http://twitter.com/search?q=%23BB19'},\n",
       "   {'name': '#TheQueenMzansi',\n",
       "    'promoted_content': None,\n",
       "    'query': '%23TheQueenMzansi',\n",
       "    'tweet_volume': None,\n",
       "    'url': 'http://twitter.com/search?q=%23TheQueenMzansi'},\n",
       "   {'name': '#VuzuHustle',\n",
       "    'promoted_content': None,\n",
       "    'query': '%23VuzuHustle',\n",
       "    'tweet_volume': None,\n",
       "    'url': 'http://twitter.com/search?q=%23VuzuHustle'},\n",
       "   {'name': '#BacAnglais',\n",
       "    'promoted_content': None,\n",
       "    'query': '%23BacAnglais',\n",
       "    'tweet_volume': 60730,\n",
       "    'url': 'http://twitter.com/search?q=%23BacAnglais'},\n",
       "   {'name': '#reazioneacatena',\n",
       "    'promoted_content': None,\n",
       "    'query': '%23reazioneacatena',\n",
       "    'tweet_volume': 14358,\n",
       "    'url': 'http://twitter.com/search?q=%23reazioneacatena'}]}]"
      ]
     },
     "execution_count": 8,
     "metadata": {},
     "output_type": "execute_result"
    }
   ],
   "source": [
    "world_trends[:2]"
   ]
  },
  {
   "cell_type": "code",
   "execution_count": 9,
   "metadata": {},
   "outputs": [
    {
     "name": "stdout",
     "output_type": "stream",
     "text": [
      "<class 'twitter.api.TwitterListResponse'>\n",
      "['trends', 'created_at', 'locations', 'as_of']\n",
      "[{'tweet_volume': 316601, 'name': '#FathersDay', 'query': '%23FathersDay', 'url': 'http://twitter.com/search?q=%23FathersDay', 'promoted_content': None}, {'tweet_volume': 18949, 'name': '#USOpen', 'query': '%23USOpen', 'url': 'http://twitter.com/search?q=%23USOpen', 'promoted_content': None}, {'tweet_volume': 37765, 'name': '#ConfedCup', 'query': '%23ConfedCup', 'url': 'http://twitter.com/search?q=%23ConfedCup', 'promoted_content': None}, {'tweet_volume': 42418, 'name': 'USS Fitzgerald', 'query': '%22USS+Fitzgerald%22', 'url': 'http://twitter.com/search?q=%22USS+Fitzgerald%22', 'promoted_content': None}, {'tweet_volume': None, 'name': '#SoccerCity', 'query': '%23SoccerCity', 'url': 'http://twitter.com/search?q=%23SoccerCity', 'promoted_content': None}, {'tweet_volume': None, 'name': '#DHS17', 'query': '%23DHS17', 'url': 'http://twitter.com/search?q=%23DHS17', 'promoted_content': None}, {'tweet_volume': 51257, 'name': 'Carrie Fisher', 'query': '%22Carrie+Fisher%22', 'url': 'http://twitter.com/search?q=%22Carrie+Fisher%22', 'promoted_content': None}, {'tweet_volume': 10161, 'name': 'Vic Mensa', 'query': '%22Vic+Mensa%22', 'url': 'http://twitter.com/search?q=%22Vic+Mensa%22', 'promoted_content': None}, {'tweet_volume': 33446, 'name': 'Jared Kushner', 'query': '%22Jared+Kushner%22', 'url': 'http://twitter.com/search?q=%22Jared+Kushner%22', 'promoted_content': None}, {'tweet_volume': None, 'name': 'Shane Doan', 'query': '%22Shane+Doan%22', 'url': 'http://twitter.com/search?q=%22Shane+Doan%22', 'promoted_content': None}, {'tweet_volume': None, 'name': 'Tommy John', 'query': '%22Tommy+John%22', 'url': 'http://twitter.com/search?q=%22Tommy+John%22', 'promoted_content': None}, {'tweet_volume': 77260, 'name': 'Supreme Court', 'query': '%22Supreme+Court%22', 'url': 'http://twitter.com/search?q=%22Supreme+Court%22', 'promoted_content': None}, {'tweet_volume': 14217, 'name': 'Panama Canal', 'query': '%22Panama+Canal%22', 'url': 'http://twitter.com/search?q=%22Panama+Canal%22', 'promoted_content': None}, {'tweet_volume': None, 'name': 'Timmy Richards', 'query': '%22Timmy+Richards%22', 'url': 'http://twitter.com/search?q=%22Timmy+Richards%22', 'promoted_content': None}, {'tweet_volume': None, 'name': 'Rick Perry', 'query': '%22Rick+Perry%22', 'url': 'http://twitter.com/search?q=%22Rick+Perry%22', 'promoted_content': None}, {'tweet_volume': 22646, 'name': 'Spicer', 'query': 'Spicer', 'url': 'http://twitter.com/search?q=Spicer', 'promoted_content': None}, {'tweet_volume': None, 'name': 'Bryan Colangelo', 'query': '%22Bryan+Colangelo%22', 'url': 'http://twitter.com/search?q=%22Bryan+Colangelo%22', 'promoted_content': None}, {'tweet_volume': 10950, 'name': 'Nabra Hassanen', 'query': '%22Nabra+Hassanen%22', 'url': 'http://twitter.com/search?q=%22Nabra+Hassanen%22', 'promoted_content': None}, {'tweet_volume': None, 'name': \"America's Funniest Home Videos\", 'query': '%22America%27s+Funniest+Home+Videos%22', 'url': 'http://twitter.com/search?q=%22America%27s+Funniest+Home+Videos%22', 'promoted_content': None}, {'tweet_volume': None, 'name': 'Drew Mendoza', 'query': '%22Drew+Mendoza%22', 'url': 'http://twitter.com/search?q=%22Drew+Mendoza%22', 'promoted_content': None}, {'tweet_volume': 11151, 'name': 'First Amendment', 'query': '%22First+Amendment%22', 'url': 'http://twitter.com/search?q=%22First+Amendment%22', 'promoted_content': None}, {'tweet_volume': None, 'name': 'Dave Rogers', 'query': '%22Dave+Rogers%22', 'url': 'http://twitter.com/search?q=%22Dave+Rogers%22', 'promoted_content': None}, {'tweet_volume': None, 'name': 'Launching 6.21', 'query': '%22Launching+6.21%22', 'url': 'http://twitter.com/search?q=%22Launching+6.21%22', 'promoted_content': None}, {'tweet_volume': None, 'name': 'Michael Brantley', 'query': '%22Michael+Brantley%22', 'url': 'http://twitter.com/search?q=%22Michael+Brantley%22', 'promoted_content': None}, {'tweet_volume': None, 'name': 'Kash Doll', 'query': '%22Kash+Doll%22', 'url': 'http://twitter.com/search?q=%22Kash+Doll%22', 'promoted_content': None}, {'tweet_volume': None, 'name': 'The Slants', 'query': '%22The+Slants%22', 'url': 'http://twitter.com/search?q=%22The+Slants%22', 'promoted_content': None}, {'tweet_volume': None, 'name': 'FEMA', 'query': 'FEMA', 'url': 'http://twitter.com/search?q=FEMA', 'promoted_content': None}, {'tweet_volume': None, 'name': 'Steven Wells', 'query': '%22Steven+Wells%22', 'url': 'http://twitter.com/search?q=%22Steven+Wells%22', 'promoted_content': None}, {'tweet_volume': None, 'name': 'Goal of the Week', 'query': '%22Goal+of+the+Week%22', 'url': 'http://twitter.com/search?q=%22Goal+of+the+Week%22', 'promoted_content': None}, {'tweet_volume': 78866, 'name': 'Handle', 'query': 'Handle', 'url': 'http://twitter.com/search?q=Handle', 'promoted_content': None}, {'tweet_volume': 31705, 'name': 'Altamira', 'query': 'Altamira', 'url': 'http://twitter.com/search?q=Altamira', 'promoted_content': None}, {'tweet_volume': None, 'name': 'Internet for 12', 'query': '%22Internet+for+12%22', 'url': 'http://twitter.com/search?q=%22Internet+for+12%22', 'promoted_content': None}, {'tweet_volume': 17790, 'name': 'Darren Osborne', 'query': '%22Darren+Osborne%22', 'url': 'http://twitter.com/search?q=%22Darren+Osborne%22', 'promoted_content': None}, {'tweet_volume': 78945, 'name': '#Juneteenth', 'query': '%23Juneteenth', 'url': 'http://twitter.com/search?q=%23Juneteenth', 'promoted_content': None}, {'tweet_volume': 154892, 'name': '#mondaymotivation', 'query': '%23mondaymotivation', 'url': 'http://twitter.com/search?q=%23mondaymotivation', 'promoted_content': None}, {'tweet_volume': None, 'name': '#NationalMartiniDay', 'query': '%23NationalMartiniDay', 'url': 'http://twitter.com/search?q=%23NationalMartiniDay', 'promoted_content': None}, {'tweet_volume': 30285, 'name': '#RTArmageddon', 'query': '%23RTArmageddon', 'url': 'http://twitter.com/search?q=%23RTArmageddon', 'promoted_content': None}, {'tweet_volume': 11042, 'name': '#MusicMonday', 'query': '%23MusicMonday', 'url': 'http://twitter.com/search?q=%23MusicMonday', 'promoted_content': None}, {'tweet_volume': None, 'name': '#MakeAJokeScary', 'query': '%23MakeAJokeScary', 'url': 'http://twitter.com/search?q=%23MakeAJokeScary', 'promoted_content': None}, {'tweet_volume': None, 'name': '#MakeaMovieSmellNice', 'query': '%23MakeaMovieSmellNice', 'url': 'http://twitter.com/search?q=%23MakeaMovieSmellNice', 'promoted_content': None}, {'tweet_volume': None, 'name': '#H2HChat', 'query': '%23H2HChat', 'url': 'http://twitter.com/search?q=%23H2HChat', 'promoted_content': None}, {'tweet_volume': None, 'name': '#contentchat', 'query': '%23contentchat', 'url': 'http://twitter.com/search?q=%23contentchat', 'promoted_content': None}, {'tweet_volume': None, 'name': '#StarTrekDiscovery', 'query': '%23StarTrekDiscovery', 'url': 'http://twitter.com/search?q=%23StarTrekDiscovery', 'promoted_content': None}, {'tweet_volume': None, 'name': '#WhatsInRyanReynoldsTrash', 'query': '%23WhatsInRyanReynoldsTrash', 'url': 'http://twitter.com/search?q=%23WhatsInRyanReynoldsTrash', 'promoted_content': None}, {'tweet_volume': 261510, 'name': '#19Jun', 'query': '%2319Jun', 'url': 'http://twitter.com/search?q=%2319Jun', 'promoted_content': None}, {'tweet_volume': None, 'name': '#MdWx', 'query': '%23MdWx', 'url': 'http://twitter.com/search?q=%23MdWx', 'promoted_content': None}, {'tweet_volume': None, 'name': '#BeVocalSpeakUp', 'query': '%23BeVocalSpeakUp', 'url': 'http://twitter.com/search?q=%23BeVocalSpeakUp', 'promoted_content': None}, {'tweet_volume': None, 'name': '#TheMMAHour', 'query': '%23TheMMAHour', 'url': 'http://twitter.com/search?q=%23TheMMAHour', 'promoted_content': None}, {'tweet_volume': None, 'name': '#JPSS1', 'query': '%23JPSS1', 'url': 'http://twitter.com/search?q=%23JPSS1', 'promoted_content': None}, {'tweet_volume': None, 'name': '#TCAAwards', 'query': '%23TCAAwards', 'url': 'http://twitter.com/search?q=%23TCAAwards', 'promoted_content': None}]\n"
     ]
    }
   ],
   "source": [
    "trends=local_trends\n",
    "print(type(trends))\n",
    "print(list(trends[0].keys()))\n",
    "print(trends[0]['trends'])"
   ]
  },
  {
   "cell_type": "markdown",
   "metadata": {},
   "source": [
    "## Example 3. Displaying API responses as pretty-printed JSON"
   ]
  },
  {
   "cell_type": "code",
   "execution_count": 10,
   "metadata": {},
   "outputs": [
    {
     "name": "stdout",
     "output_type": "stream",
     "text": [
      "[\n",
      " {\n",
      "  \"trends\": [\n",
      "   {\n",
      "    \"tweet_volume\": 50487,\n",
      "    \"name\": \"Carrie Fisher\",\n",
      "    \"query\": \"%22Carrie+Fisher%22\",\n",
      "    \"url\": \"http://twitter.com/search?q=%22Carrie+Fisher%22\",\n",
      "    \"promoted_content\": null\n",
      "   },\n",
      "   {\n",
      "    \"tweet_volume\": 78158,\n",
      "    \"name\": \"#Juneteenth\",\n",
      "    \"query\": \"%23Juneteenth\",\n",
      "    \"url\": \"http://twitter.com/search?q=%23Juneteenth\",\n",
      "    \"promoted_content\": null\n",
      "   },\n",
      "   {\n",
      "    \"tweet_volume\": null,\n",
      "    \"name\": \"Vic Mensa\",\n",
      "    \"query\": \"%22Vic+Mensa%22\",\n",
      "    \"url\": \"http://twitter.com/search?q=%22Vic+Mensa%22\",\n",
      "    \"promoted_content\": null\n",
      "   },\n",
      "   {\n",
      "    \"tweet_volume\": 153214,\n",
      "    \"name\": \"#mondaymotivation\",\n",
      "    \"query\": \"%23mondaymotivation\",\n",
      "    \"url\": \"http://twitter.com/search?q=%23mondaymotivation\",\n",
      "    \"promoted_content\": null\n",
      "   },\n",
      "   {\n",
      "    \"tweet_volume\": 32877,\n",
      "    \"name\": \"Jared Kushner\",\n",
      "    \"query\": \"%22Jared+Kushner%22\",\n",
      "    \"url\": \"http://twitter.com/search?q=%22Jared+Kushner%22\",\n",
      "    \"promoted_content\": null\n",
      "   },\n",
      "   {\n",
      "    \"tweet_volume\": null,\n",
      "    \"name\": \"Shane Doan\",\n",
      "    \"query\": \"%22Shane+Doan%22\",\n",
      "    \"url\": \"http://twitter.com/search?q=%22Shane+Doan%22\",\n",
      "    \"promoted_content\": null\n",
      "   },\n",
      "   {\n",
      "    \"tweet_volume\": null,\n",
      "    \"name\": \"Tommy John\",\n",
      "    \"query\": \"%22Tommy+John%22\",\n",
      "    \"url\": \"http://twitter.com/search?q=%22Tommy+John%22\",\n",
      "    \"promoted_content\": null\n",
      "   },\n",
      "   {\n",
      "    \"tweet_volume\": null,\n",
      "    \"name\": \"#NationalMartiniDay\",\n",
      "    \"query\": \"%23NationalMartiniDay\",\n",
      "    \"url\": \"http://twitter.com/search?q=%23NationalMartiniDay\",\n",
      "    \"promoted_content\": null\n",
      "   },\n",
      "   {\n",
      "    \"tweet_volume\": 76747,\n",
      "    \"name\": \"Supreme Court\",\n",
      "    \"query\": \"%22Supreme+Court%22\",\n",
      "    \"url\": \"http://twitter.com/search?q=%22Supreme+Court%22\",\n",
      "    \"promoted_content\": null\n",
      "   },\n",
      "   {\n",
      "    \"tweet_volume\": 30077,\n",
      "    \"name\": \"#RTArmageddon\",\n",
      "    \"query\": \"%23RTArmageddon\",\n",
      "    \"url\": \"http://twitter.com/search?q=%23RTArmageddon\",\n",
      "    \"promoted_content\": null\n",
      "   },\n",
      "   {\n",
      "    \"tweet_volume\": 10980,\n",
      "    \"name\": \"#MusicMonday\",\n",
      "    \"query\": \"%23MusicMonday\",\n",
      "    \"url\": \"http://twitter.com/search?q=%23MusicMonday\",\n",
      "    \"promoted_content\": null\n",
      "   },\n",
      "   {\n",
      "    \"tweet_volume\": 14005,\n",
      "    \"name\": \"Panama Canal\",\n",
      "    \"query\": \"%22Panama+Canal%22\",\n",
      "    \"url\": \"http://twitter.com/search?q=%22Panama+Canal%22\",\n",
      "    \"promoted_content\": null\n",
      "   },\n",
      "   {\n",
      "    \"tweet_volume\": null,\n",
      "    \"name\": \"Timmy Richards\",\n",
      "    \"query\": \"%22Timmy+Richards%22\",\n",
      "    \"url\": \"http://twitter.com/search?q=%22Timmy+Richards%22\",\n",
      "    \"promoted_content\": null\n",
      "   },\n",
      "   {\n",
      "    \"tweet_volume\": 21913,\n",
      "    \"name\": \"Spicer\",\n",
      "    \"query\": \"Spicer\",\n",
      "    \"url\": \"http://twitter.com/search?q=Spicer\",\n",
      "    \"promoted_content\": null\n",
      "   },\n",
      "   {\n",
      "    \"tweet_volume\": null,\n",
      "    \"name\": \"Rick Perry\",\n",
      "    \"query\": \"%22Rick+Perry%22\",\n",
      "    \"url\": \"http://twitter.com/search?q=%22Rick+Perry%22\",\n",
      "    \"promoted_content\": null\n",
      "   },\n",
      "   {\n",
      "    \"tweet_volume\": null,\n",
      "    \"name\": \"Bryan Colangelo\",\n",
      "    \"query\": \"%22Bryan+Colangelo%22\",\n",
      "    \"url\": \"http://twitter.com/search?q=%22Bryan+Colangelo%22\",\n",
      "    \"promoted_content\": null\n",
      "   },\n",
      "   {\n",
      "    \"tweet_volume\": null,\n",
      "    \"name\": \"Drew Mendoza\",\n",
      "    \"query\": \"%22Drew+Mendoza%22\",\n",
      "    \"url\": \"http://twitter.com/search?q=%22Drew+Mendoza%22\",\n",
      "    \"promoted_content\": null\n",
      "   },\n",
      "   {\n",
      "    \"tweet_volume\": null,\n",
      "    \"name\": \"America's Funniest Home Videos\",\n",
      "    \"query\": \"%22America%27s+Funniest+Home+Videos%22\",\n",
      "    \"url\": \"http://twitter.com/search?q=%22America%27s+Funniest+Home+Videos%22\",\n",
      "    \"promoted_content\": null\n",
      "   },\n",
      "   {\n",
      "    \"tweet_volume\": 11021,\n",
      "    \"name\": \"First Amendment\",\n",
      "    \"query\": \"%22First+Amendment%22\",\n",
      "    \"url\": \"http://twitter.com/search?q=%22First+Amendment%22\",\n",
      "    \"promoted_content\": null\n",
      "   },\n",
      "   {\n",
      "    \"tweet_volume\": null,\n",
      "    \"name\": \"Dave Rogers\",\n",
      "    \"query\": \"%22Dave+Rogers%22\",\n",
      "    \"url\": \"http://twitter.com/search?q=%22Dave+Rogers%22\",\n",
      "    \"promoted_content\": null\n",
      "   },\n",
      "   {\n",
      "    \"tweet_volume\": 10812,\n",
      "    \"name\": \"Nabra Hassanen\",\n",
      "    \"query\": \"%22Nabra+Hassanen%22\",\n",
      "    \"url\": \"http://twitter.com/search?q=%22Nabra+Hassanen%22\",\n",
      "    \"promoted_content\": null\n",
      "   },\n",
      "   {\n",
      "    \"tweet_volume\": null,\n",
      "    \"name\": \"Launching 6.21\",\n",
      "    \"query\": \"%22Launching+6.21%22\",\n",
      "    \"url\": \"http://twitter.com/search?q=%22Launching+6.21%22\",\n",
      "    \"promoted_content\": null\n",
      "   },\n",
      "   {\n",
      "    \"tweet_volume\": null,\n",
      "    \"name\": \"Kash Doll\",\n",
      "    \"query\": \"%22Kash+Doll%22\",\n",
      "    \"url\": \"http://twitter.com/search?q=%22Kash+Doll%22\",\n",
      "    \"promoted_content\": null\n",
      "   },\n",
      "   {\n",
      "    \"tweet_volume\": null,\n",
      "    \"name\": \"The Slants\",\n",
      "    \"query\": \"%22The+Slants%22\",\n",
      "    \"url\": \"http://twitter.com/search?q=%22The+Slants%22\",\n",
      "    \"promoted_content\": null\n",
      "   },\n",
      "   {\n",
      "    \"tweet_volume\": null,\n",
      "    \"name\": \"FEMA\",\n",
      "    \"query\": \"FEMA\",\n",
      "    \"url\": \"http://twitter.com/search?q=FEMA\",\n",
      "    \"promoted_content\": null\n",
      "   },\n",
      "   {\n",
      "    \"tweet_volume\": null,\n",
      "    \"name\": \"Steven Wells\",\n",
      "    \"query\": \"%22Steven+Wells%22\",\n",
      "    \"url\": \"http://twitter.com/search?q=%22Steven+Wells%22\",\n",
      "    \"promoted_content\": null\n",
      "   },\n",
      "   {\n",
      "    \"tweet_volume\": null,\n",
      "    \"name\": \"Goal of the Week\",\n",
      "    \"query\": \"%22Goal+of+the+Week%22\",\n",
      "    \"url\": \"http://twitter.com/search?q=%22Goal+of+the+Week%22\",\n",
      "    \"promoted_content\": null\n",
      "   },\n",
      "   {\n",
      "    \"tweet_volume\": null,\n",
      "    \"name\": \"Michael Brantley\",\n",
      "    \"query\": \"%22Michael+Brantley%22\",\n",
      "    \"url\": \"http://twitter.com/search?q=%22Michael+Brantley%22\",\n",
      "    \"promoted_content\": null\n",
      "   },\n",
      "   {\n",
      "    \"tweet_volume\": null,\n",
      "    \"name\": \"Pike County\",\n",
      "    \"query\": \"%22Pike+County%22\",\n",
      "    \"url\": \"http://twitter.com/search?q=%22Pike+County%22\",\n",
      "    \"promoted_content\": null\n",
      "   },\n",
      "   {\n",
      "    \"tweet_volume\": 29664,\n",
      "    \"name\": \"Altamira\",\n",
      "    \"query\": \"Altamira\",\n",
      "    \"url\": \"http://twitter.com/search?q=Altamira\",\n",
      "    \"promoted_content\": null\n",
      "   },\n",
      "   {\n",
      "    \"tweet_volume\": 17551,\n",
      "    \"name\": \"Darren Osborne\",\n",
      "    \"query\": \"%22Darren+Osborne%22\",\n",
      "    \"url\": \"http://twitter.com/search?q=%22Darren+Osborne%22\",\n",
      "    \"promoted_content\": null\n",
      "   },\n",
      "   {\n",
      "    \"tweet_volume\": null,\n",
      "    \"name\": \"Blue Cheese\",\n",
      "    \"query\": \"%22Blue+Cheese%22\",\n",
      "    \"url\": \"http://twitter.com/search?q=%22Blue+Cheese%22\",\n",
      "    \"promoted_content\": null\n",
      "   },\n",
      "   {\n",
      "    \"tweet_volume\": null,\n",
      "    \"name\": \"Bill Dana\",\n",
      "    \"query\": \"%22Bill+Dana%22\",\n",
      "    \"url\": \"http://twitter.com/search?q=%22Bill+Dana%22\",\n",
      "    \"promoted_content\": null\n",
      "   },\n",
      "   {\n",
      "    \"tweet_volume\": null,\n",
      "    \"name\": \"#MakeAJokeScary\",\n",
      "    \"query\": \"%23MakeAJokeScary\",\n",
      "    \"url\": \"http://twitter.com/search?q=%23MakeAJokeScary\",\n",
      "    \"promoted_content\": null\n",
      "   },\n",
      "   {\n",
      "    \"tweet_volume\": null,\n",
      "    \"name\": \"#H2HChat\",\n",
      "    \"query\": \"%23H2HChat\",\n",
      "    \"url\": \"http://twitter.com/search?q=%23H2HChat\",\n",
      "    \"promoted_content\": null\n",
      "   },\n",
      "   {\n",
      "    \"tweet_volume\": null,\n",
      "    \"name\": \"#contentchat\",\n",
      "    \"query\": \"%23contentchat\",\n",
      "    \"url\": \"http://twitter.com/search?q=%23contentchat\",\n",
      "    \"promoted_content\": null\n",
      "   },\n",
      "   {\n",
      "    \"tweet_volume\": null,\n",
      "    \"name\": \"#MakeaMovieSmellNice\",\n",
      "    \"query\": \"%23MakeaMovieSmellNice\",\n",
      "    \"url\": \"http://twitter.com/search?q=%23MakeaMovieSmellNice\",\n",
      "    \"promoted_content\": null\n",
      "   },\n",
      "   {\n",
      "    \"tweet_volume\": null,\n",
      "    \"name\": \"#StarTrekDiscovery\",\n",
      "    \"query\": \"%23StarTrekDiscovery\",\n",
      "    \"url\": \"http://twitter.com/search?q=%23StarTrekDiscovery\",\n",
      "    \"promoted_content\": null\n",
      "   },\n",
      "   {\n",
      "    \"tweet_volume\": null,\n",
      "    \"name\": \"#WhatsInRyanReynoldsTrash\",\n",
      "    \"query\": \"%23WhatsInRyanReynoldsTrash\",\n",
      "    \"url\": \"http://twitter.com/search?q=%23WhatsInRyanReynoldsTrash\",\n",
      "    \"promoted_content\": null\n",
      "   },\n",
      "   {\n",
      "    \"tweet_volume\": 258867,\n",
      "    \"name\": \"#19Jun\",\n",
      "    \"query\": \"%2319Jun\",\n",
      "    \"url\": \"http://twitter.com/search?q=%2319Jun\",\n",
      "    \"promoted_content\": null\n",
      "   },\n",
      "   {\n",
      "    \"tweet_volume\": null,\n",
      "    \"name\": \"#MdWx\",\n",
      "    \"query\": \"%23MdWx\",\n",
      "    \"url\": \"http://twitter.com/search?q=%23MdWx\",\n",
      "    \"promoted_content\": null\n",
      "   },\n",
      "   {\n",
      "    \"tweet_volume\": null,\n",
      "    \"name\": \"#BeVocalSpeakUp\",\n",
      "    \"query\": \"%23BeVocalSpeakUp\",\n",
      "    \"url\": \"http://twitter.com/search?q=%23BeVocalSpeakUp\",\n",
      "    \"promoted_content\": null\n",
      "   },\n",
      "   {\n",
      "    \"tweet_volume\": null,\n",
      "    \"name\": \"#TheMMAHour\",\n",
      "    \"query\": \"%23TheMMAHour\",\n",
      "    \"url\": \"http://twitter.com/search?q=%23TheMMAHour\",\n",
      "    \"promoted_content\": null\n",
      "   },\n",
      "   {\n",
      "    \"tweet_volume\": null,\n",
      "    \"name\": \"#ImagineDragonsEvolve\",\n",
      "    \"query\": \"%23ImagineDragonsEvolve\",\n",
      "    \"url\": \"http://twitter.com/search?q=%23ImagineDragonsEvolve\",\n",
      "    \"promoted_content\": null\n",
      "   },\n",
      "   {\n",
      "    \"tweet_volume\": null,\n",
      "    \"name\": \"#JPSS1\",\n",
      "    \"query\": \"%23JPSS1\",\n",
      "    \"url\": \"http://twitter.com/search?q=%23JPSS1\",\n",
      "    \"promoted_content\": null\n",
      "   },\n",
      "   {\n",
      "    \"tweet_volume\": null,\n",
      "    \"name\": \"#TCAAwards\",\n",
      "    \"query\": \"%23TCAAwards\",\n",
      "    \"url\": \"http://twitter.com/search?q=%23TCAAwards\",\n",
      "    \"promoted_content\": null\n",
      "   },\n",
      "   {\n",
      "    \"tweet_volume\": null,\n",
      "    \"name\": \"#dearwdw\",\n",
      "    \"query\": \"%23dearwdw\",\n",
      "    \"url\": \"http://twitter.com/search?q=%23dearwdw\",\n",
      "    \"promoted_content\": null\n",
      "   },\n",
      "   {\n",
      "    \"tweet_volume\": 17768,\n",
      "    \"name\": \"#WWE2K18\",\n",
      "    \"query\": \"%23WWE2K18\",\n",
      "    \"url\": \"http://twitter.com/search?q=%23WWE2K18\",\n",
      "    \"promoted_content\": null\n",
      "   },\n",
      "   {\n",
      "    \"tweet_volume\": 53950,\n",
      "    \"name\": \"#GobiernoEsp\\u00eda\",\n",
      "    \"query\": \"%23GobiernoEsp%C3%ADa\",\n",
      "    \"url\": \"http://twitter.com/search?q=%23GobiernoEsp%C3%ADa\",\n",
      "    \"promoted_content\": null\n",
      "   },\n",
      "   {\n",
      "    \"tweet_volume\": null,\n",
      "    \"name\": \"#gerrymandering\",\n",
      "    \"query\": \"%23gerrymandering\",\n",
      "    \"url\": \"http://twitter.com/search?q=%23gerrymandering\",\n",
      "    \"promoted_content\": null\n",
      "   }\n",
      "  ],\n",
      "  \"created_at\": \"2017-06-19T20:35:15Z\",\n",
      "  \"locations\": [\n",
      "   {\n",
      "    \"woeid\": 23424977,\n",
      "    \"name\": \"United States\"\n",
      "   }\n",
      "  ],\n",
      "  \"as_of\": \"2017-06-19T20:41:00Z\"\n",
      " }\n",
      "]\n"
     ]
    }
   ],
   "source": [
    "import json\n",
    "\n",
    "print((json.dumps(us_trends[:2], indent=1)))"
   ]
  },
  {
   "cell_type": "markdown",
   "metadata": {},
   "source": [
    "## Example 4. Computing the intersection of two sets of trends"
   ]
  },
  {
   "cell_type": "code",
   "execution_count": 11,
   "metadata": {
    "collapsed": true
   },
   "outputs": [],
   "source": [
    "trends_set = {}\n",
    "trends_set['world'] = set([trend['name'] \n",
    "                        for trend in world_trends[0]['trends']])\n",
    "\n",
    "trends_set['us'] = set([trend['name'] \n",
    "                     for trend in us_trends[0]['trends']]) \n",
    "\n",
    "trends_set['san diego'] = set([trend['name'] \n",
    "                     for trend in local_trends[0]['trends']]) "
   ]
  },
  {
   "cell_type": "code",
   "execution_count": 12,
   "metadata": {},
   "outputs": [
    {
     "name": "stdout",
     "output_type": "stream",
     "text": [
      "('----------', 'world')\n",
      "Darren Osborne,#TúTanFresaY,#CrisisVocacional,#TiniEnInfobae,Brian Cant,#VuzuHustle,Jared Kushner,#مرسيدس_نخبه_العود6,#МракСосётвИнсте,#GobiernoEspía,Topo Chico,Shane Doan,#projektlady,#DaddyYankeeEH,#heatwaveuk,#مسابقه_الوليد_شفاه_الله_24,#BacAnglais,#TheQueenMzansi,#ADP2017,#19Jun,Vic Mensa,Hirving Lozano,#FirstDates364,#Panorama,#EstouCansadoDe,#SonKezİçerdeyiz,#ImagineDragonsEvolve,#MafiaSdvJaéSegundaE,Carrie Fisher,#GFBgeliyor,#SözümüzBitmedi,#ArgentinaNeedsMoreDates,#KNJMONDAY,#خربين_هلالي_اربع_سنوات,#Juneteenth,#elintermedio,Green Day,#DavamızDuamızBir,Maradona,#SomosPuebloSoberano,#BB19,#reazioneacatena,Gleyber Torres,#اربح_ايفون7_مع_زايد,İlhan Mansız,#NationalMartiniDay,#SiAlgoLeFaltaAMiVidaEs,#POLSWE,#AUSGER,#şehitoluruz\n",
      "('----------', 'us')\n",
      "Darren Osborne,Jared Kushner,#H2HChat,#GobiernoEspía,#gerrymandering,Shane Doan,Timmy Richards,Nabra Hassanen,#JPSS1,#contentchat,Supreme Court,#19Jun,#dearwdw,#MdWx,Blue Cheese,Vic Mensa,Panama Canal,Drew Mendoza,#TCAAwards,Dave Rogers,#ImagineDragonsEvolve,#mondaymotivation,Michael Brantley,#MakeaMovieSmellNice,America's Funniest Home Videos,#StarTrekDiscovery,Carrie Fisher,FEMA,Bill Dana,Pike County,#WhatsInRyanReynoldsTrash,#MusicMonday,#TheMMAHour,#Juneteenth,Steven Wells,Altamira,Bryan Colangelo,#MakeAJokeScary,Goal of the Week,Kash Doll,#WWE2K18,The Slants,#NationalMartiniDay,First Amendment,Tommy John,Spicer,#RTArmageddon,Launching 6.21,#BeVocalSpeakUp,Rick Perry\n",
      "('----------', 'san diego')\n",
      "Darren Osborne,Jared Kushner,#H2HChat,Shane Doan,Timmy Richards,#SoccerCity,Nabra Hassanen,Internet for 12,#JPSS1,#contentchat,#USOpen,Supreme Court,#19Jun,#MdWx,Vic Mensa,Panama Canal,Drew Mendoza,#TCAAwards,Dave Rogers,#mondaymotivation,Michael Brantley,#MakeaMovieSmellNice,America's Funniest Home Videos,#StarTrekDiscovery,#DHS17,Carrie Fisher,FEMA,#WhatsInRyanReynoldsTrash,#MusicMonday,#TheMMAHour,#Juneteenth,Steven Wells,Handle,#FathersDay,Altamira,Bryan Colangelo,#MakeAJokeScary,#ConfedCup,Goal of the Week,Kash Doll,USS Fitzgerald,The Slants,#NationalMartiniDay,First Amendment,Tommy John,Spicer,Launching 6.21,#RTArmageddon,#BeVocalSpeakUp,Rick Perry\n"
     ]
    }
   ],
   "source": [
    "for loc in ['world','us','san diego']:\n",
    "    print(('-'*10,loc))\n",
    "    print((','.join(trends_set[loc])))"
   ]
  },
  {
   "cell_type": "code",
   "execution_count": 13,
   "metadata": {},
   "outputs": [
    {
     "name": "stdout",
     "output_type": "stream",
     "text": [
      "('==========', 'intersection of world and us')\n",
      "{'#ImagineDragonsEvolve', 'Darren Osborne', '#19Jun', 'Carrie Fisher', 'Jared Kushner', '#NationalMartiniDay', '#GobiernoEspía', 'Vic Mensa', 'Shane Doan', '#Juneteenth'}\n",
      "('==========', 'intersection of us and san-diego')\n",
      "{'Darren Osborne', 'Jared Kushner', '#H2HChat', 'Shane Doan', 'Timmy Richards', 'Nabra Hassanen', '#JPSS1', '#contentchat', 'Supreme Court', '#19Jun', '#MdWx', 'Vic Mensa', 'Panama Canal', 'Drew Mendoza', '#TCAAwards', 'Dave Rogers', '#mondaymotivation', 'Michael Brantley', '#MakeaMovieSmellNice', \"America's Funniest Home Videos\", '#StarTrekDiscovery', 'Carrie Fisher', 'FEMA', '#WhatsInRyanReynoldsTrash', '#MusicMonday', '#TheMMAHour', '#Juneteenth', 'Steven Wells', 'Altamira', 'Bryan Colangelo', '#MakeAJokeScary', 'Goal of the Week', 'Kash Doll', 'The Slants', '#NationalMartiniDay', 'First Amendment', 'Tommy John', 'Spicer', '#RTArmageddon', 'Launching 6.21', '#BeVocalSpeakUp', 'Rick Perry'}\n"
     ]
    }
   ],
   "source": [
    "print(( '='*10,'intersection of world and us'))\n",
    "print((trends_set['world'].intersection(trends_set['us'])))\n",
    "\n",
    "print(('='*10,'intersection of us and san-diego'))\n",
    "print((trends_set['san diego'].intersection(trends_set['us'])))"
   ]
  },
  {
   "cell_type": "markdown",
   "metadata": {},
   "source": [
    "## Example 5. Collecting search results"
   ]
  },
  {
   "cell_type": "markdown",
   "metadata": {},
   "source": [
    "Set the variable `q` to a trending topic, \n",
    "or anything else for that matter. The example query below\n",
    "was a trending topic when this content was being developed\n",
    "and is used throughout the remainder of this chapter"
   ]
  },
  {
   "cell_type": "code",
   "execution_count": 14,
   "metadata": {
    "collapsed": true
   },
   "outputs": [],
   "source": [
    "q = '#MTVAwards' \n",
    "\n",
    "number = 100\n",
    "\n",
    "# See https://dev.twitter.com/docs/api/1.1/get/search/tweets\n",
    "\n",
    "search_results = twitter_api.search.tweets(q=q, count=number)\n",
    "\n",
    "statuses = search_results['statuses']"
   ]
  },
  {
   "cell_type": "code",
   "execution_count": 4,
   "metadata": {},
   "outputs": [
    {
     "ename": "NameError",
     "evalue": "name 'statuses' is not defined",
     "output_type": "error",
     "traceback": [
      "\u001b[1;31m---------------------------------------------------------------------------\u001b[0m",
      "\u001b[1;31mNameError\u001b[0m                                 Traceback (most recent call last)",
      "\u001b[1;32m<ipython-input-4-329cf4ee0524>\u001b[0m in \u001b[0;36m<module>\u001b[1;34m()\u001b[0m\n\u001b[1;32m----> 1\u001b[1;33m \u001b[0mlen\u001b[0m\u001b[1;33m(\u001b[0m\u001b[0mstatuses\u001b[0m\u001b[1;33m)\u001b[0m\u001b[1;33m\u001b[0m\u001b[0m\n\u001b[0m\u001b[0;32m      2\u001b[0m \u001b[0mprint\u001b[0m\u001b[1;33m(\u001b[0m\u001b[0mstatuses\u001b[0m\u001b[1;33m)\u001b[0m\u001b[1;33m\u001b[0m\u001b[0m\n",
      "\u001b[1;31mNameError\u001b[0m: name 'statuses' is not defined"
     ]
    }
   ],
   "source": [
    "len(statuses)\n",
    "print(statuses)"
   ]
  },
  {
   "cell_type": "markdown",
   "metadata": {},
   "source": [
    "Twitter often returns duplicate results, we can filter them out checking for duplicate texts:"
   ]
  },
  {
   "cell_type": "code",
   "execution_count": 16,
   "metadata": {
    "collapsed": true
   },
   "outputs": [],
   "source": [
    "all_text = []\n",
    "filtered_statuses = []\n",
    "for s in statuses:\n",
    "    if not s[\"text\"] in all_text:\n",
    "        filtered_statuses.append(s)\n",
    "        all_text.append(s[\"text\"])\n",
    "statuses = filtered_statuses     "
   ]
  },
  {
   "cell_type": "code",
   "execution_count": 17,
   "metadata": {},
   "outputs": [
    {
     "data": {
      "text/plain": [
       "30"
      ]
     },
     "execution_count": 17,
     "metadata": {},
     "output_type": "execute_result"
    }
   ],
   "source": [
    "len(statuses)"
   ]
  },
  {
   "cell_type": "code",
   "execution_count": 2,
   "metadata": {},
   "outputs": [],
   "source": [
    "[s['text'] for s in search_results['statuses']]"
   ]
  },
  {
   "cell_type": "code",
   "execution_count": 1,
   "metadata": {},
   "outputs": [],
   "source": [
    "# Show one sample search result by slicing the list...\n",
    "# print(json.dumps(statuses[0], indent=1))"
   ]
  },
  {
   "cell_type": "code",
   "execution_count": 20,
   "metadata": {},
   "outputs": [
    {
     "name": "stdout",
     "output_type": "stream",
     "text": [
      "13\n",
      "False\n"
     ]
    }
   ],
   "source": [
    "# The result of the list comprehension is a list with only one element that\n",
    "# can be accessed by its index and set to the variable t\n",
    "t = statuses[0]\n",
    "#[ status for status in statuses \n",
    "#          if status['id'] == 316948241264549888 ][0]\n",
    "\n",
    "# Explore the variable t to get familiarized with the data structure...\n",
    "\n",
    "print(t['retweet_count'])\n",
    "print(t['retweeted'])\n"
   ]
  },
  {
   "cell_type": "markdown",
   "metadata": {},
   "source": [
    "## Example 6. Extracting text, screen names, and hashtags from tweets"
   ]
  },
  {
   "cell_type": "code",
   "execution_count": 21,
   "metadata": {
    "collapsed": true
   },
   "outputs": [],
   "source": [
    "status_texts = [ status['text'] \n",
    "                 for status in statuses ]\n",
    "\n",
    "screen_names = [ user_mention['screen_name'] \n",
    "                 for status in statuses\n",
    "                     for user_mention in status['entities']['user_mentions'] ]\n",
    "\n",
    "hashtags = [ hashtag['text'] \n",
    "             for status in statuses\n",
    "                 for hashtag in status['entities']['hashtags'] ]\n",
    "\n",
    "# Compute a collection of all words from all tweets\n",
    "words = [ w \n",
    "          for t in status_texts \n",
    "              for w in t.split() ]"
   ]
  },
  {
   "cell_type": "code",
   "execution_count": 22,
   "metadata": {},
   "outputs": [
    {
     "name": "stdout",
     "output_type": "stream",
     "text": [
      "[\n",
      " \"RT @NewsBenjieFede: Esattamente un anno fa Benji &amp; Fede vincevano il premio \\\"Nickelodeon Slimefest Award\\\" agli #MTVAwards \\n\\n\\u2192 19 Giugno 201\\u2026\",\n",
      " \"RT @chrissyteigen: Yes, I do my own stunts. New episode of @spikelsb tonight before the #mtvawards at 7:30pm EST! @zendaya vs @TomHolland19\\u2026\",\n",
      " \"RT @MTV: Let @dylanobrien guide you through a first look at Maze Runner: The Death Cure, exclusively for the #MTVAwards tonight at 8/7c! \\ud83d\\udca5\\u2026\",\n",
      " \"RT @MTV: Thank you for your beautiful Best Actor in a Movie acceptance speech at the #MTVAwards, @EmmaWatson \\ud83d\\udc96 https://t.co/iGN3nQQylL\",\n",
      " \"RT @TeenWolflta: [UPDATE]: \\n\\nECCO LO SNEAK PEEK DELLA NUOVA ED ULTIMA STAGIONE DI TEEN WOLF #MTVAwards https://t.co/ywkczZXpa5\"\n",
      "]\n",
      "[\n",
      " \"NewsBenjieFede\",\n",
      " \"chrissyteigen\",\n",
      " \"SpikeLSB\",\n",
      " \"Zendaya\",\n",
      " \"MTV\"\n",
      "]\n",
      "[\n",
      " \"MTVAwards\",\n",
      " \"mtvawards\",\n",
      " \"MTVAwards\",\n",
      " \"MTVAwards\",\n",
      " \"MTVAwards\"\n",
      "]\n",
      "[\n",
      " \"RT\",\n",
      " \"@NewsBenjieFede:\",\n",
      " \"Esattamente\",\n",
      " \"un\",\n",
      " \"anno\"\n",
      "]\n"
     ]
    }
   ],
   "source": [
    "# Explore the first 5 items for each...\n",
    "\n",
    "print(json.dumps(status_texts[0:5], indent=1))\n",
    "print(json.dumps(screen_names[0:5], indent=1)) \n",
    "print(json.dumps(hashtags[0:5], indent=1))\n",
    "print(json.dumps(words[0:5], indent=1))"
   ]
  },
  {
   "cell_type": "markdown",
   "metadata": {},
   "source": [
    "## Example 7. Creating a basic frequency distribution from the words in tweets"
   ]
  },
  {
   "cell_type": "code",
   "execution_count": 23,
   "metadata": {},
   "outputs": [
    {
     "name": "stdout",
     "output_type": "stream",
     "text": [
      "[('RT', 26), ('#MTVAwards', 24), ('the', 12), ('&amp;', 9), ('premio', 8), ('il', 8), ('at', 8), ('→', 7), ('Benji', 7), ('Fede', 7)]\n",
      "\n",
      "[('MTV', 10), ('NewsBenjieFede', 6), ('EmmaWatson', 3), ('milliebbrown', 2), ('Zendaya', 1), ('transformers', 1), ('mtuan93', 1), ('dylanobrien', 1), ('RealHughJackman', 1), ('JUrb1', 1)]\n",
      "\n",
      "[('MTVAwards', 27), ('mtvawards', 2), ('BestItalianBand', 1), ('MTVawards', 1), ('ToyotaCHR', 1), ('GOT7forVMAs', 1), ('IGOT7', 1), ('MTVAwardsStar', 1), ('MTVMovieAwards', 1), ('Transformers', 1)]\n",
      "\n"
     ]
    }
   ],
   "source": [
    "from collections import Counter\n",
    "\n",
    "for item in [words, screen_names, hashtags]:\n",
    "    c = Counter(item)\n",
    "    print(c.most_common()[:10]) # top 10\n",
    "    print()"
   ]
  },
  {
   "cell_type": "markdown",
   "metadata": {},
   "source": [
    "## Example 8. Create a prettyprint function to display tuples in a nice tabular format"
   ]
  },
  {
   "cell_type": "code",
   "execution_count": 24,
   "metadata": {
    "collapsed": true
   },
   "outputs": [],
   "source": [
    "def prettyprint_counts(label, list_of_tuples):\n",
    "    print(\"\\n{:^20} | {:^6}\".format(label, \"Count\"))\n",
    "    print(\"*\"*40)\n",
    "    for k,v in list_of_tuples:\n",
    "        print(\"{:20} | {:>6}\".format(k,v))"
   ]
  },
  {
   "cell_type": "code",
   "execution_count": 25,
   "metadata": {},
   "outputs": [
    {
     "name": "stdout",
     "output_type": "stream",
     "text": [
      "\n",
      "        Word         | Count \n",
      "****************************************\n",
      "RT                   |     26\n",
      "#MTVAwards           |     24\n",
      "the                  |     12\n",
      "&amp;                |      9\n",
      "premio               |      8\n",
      "il                   |      8\n",
      "at                   |      8\n",
      "→                    |      7\n",
      "Benji                |      7\n",
      "Fede                 |      7\n",
      "\n",
      "    Screen Name      | Count \n",
      "****************************************\n",
      "MTV                  |     10\n",
      "NewsBenjieFede       |      6\n",
      "EmmaWatson           |      3\n",
      "milliebbrown         |      2\n",
      "Zendaya              |      1\n",
      "transformers         |      1\n",
      "mtuan93              |      1\n",
      "dylanobrien          |      1\n",
      "RealHughJackman      |      1\n",
      "JUrb1                |      1\n",
      "\n",
      "      Hashtag        | Count \n",
      "****************************************\n",
      "MTVAwards            |     27\n",
      "mtvawards            |      2\n",
      "BestItalianBand      |      1\n",
      "MTVawards            |      1\n",
      "ToyotaCHR            |      1\n",
      "GOT7forVMAs          |      1\n",
      "IGOT7                |      1\n",
      "MTVAwardsStar        |      1\n",
      "MTVMovieAwards       |      1\n",
      "Transformers         |      1\n"
     ]
    }
   ],
   "source": [
    "for label, data in (('Word', words), \n",
    "                    ('Screen Name', screen_names), \n",
    "                    ('Hashtag', hashtags)):\n",
    "    \n",
    "    c = Counter(data)\n",
    "    prettyprint_counts(label, c.most_common()[:10])"
   ]
  },
  {
   "cell_type": "markdown",
   "metadata": {},
   "source": [
    "## Example 9. Finding the most popular retweets"
   ]
  },
  {
   "cell_type": "code",
   "execution_count": 26,
   "metadata": {
    "collapsed": true
   },
   "outputs": [],
   "source": [
    "retweets = [\n",
    "            # Store out a tuple of these three values ...\n",
    "            (status['retweet_count'], \n",
    "             status['retweeted_status']['user']['screen_name'],\n",
    "             status['text'].replace(\"\\n\",\"\\\\\")) \n",
    "            \n",
    "            # ... for each status ...\n",
    "            for status in statuses \n",
    "            \n",
    "            # ... so long as the status meets this condition.\n",
    "                if 'retweeted_status' in status\n",
    "           ]"
   ]
  },
  {
   "cell_type": "markdown",
   "metadata": {},
   "source": [
    "We can build another `prettyprint` function to print entire tweets with their retweet count.\n",
    "\n",
    "We also want to split the text of the tweet in up to 3 lines, if needed."
   ]
  },
  {
   "cell_type": "code",
   "execution_count": 29,
   "metadata": {
    "collapsed": true
   },
   "outputs": [],
   "source": [
    "row_template = \"{:^7} | {:^15} | {:50}\"\n",
    "def prettyprint_tweets(list_of_tuples):\n",
    "    print()\n",
    "    print(row_template.format(\"Count\", \"Screen Name\", \"Text\"))\n",
    "    print(\"*\"*80)\n",
    "    for count, screen_name, text in list_of_tuples:\n",
    "        print(row_template.format(count, screen_name, text[:50]))\n",
    "        if len(text) > 50:\n",
    "            print(row_template.format(\"\", \"\", text[50:100]))\n",
    "            if len(text) > 100:\n",
    "                print(row_template.format(\"\", \"\", text[100:]))"
   ]
  },
  {
   "cell_type": "code",
   "execution_count": 30,
   "metadata": {},
   "outputs": [
    {
     "name": "stdout",
     "output_type": "stream",
     "text": [
      "\n",
      " Count  |   Screen Name   | Text                                              \n",
      "********************************************************************************\n",
      " 8310   |       MTV       | RT @MTV: Let @dylanobrien guide you through a firs\n",
      "        |                 | t look at Maze Runner: The Death Cure, exclusively\n",
      "        |                 |  for the #MTVAwards tonight at 8/7c! 💥…           \n",
      " 6236   |   EmmaWatson    | RT @EmmaWatson: Thank you @MTV for a wonderful eve\n",
      "        |                 | ning and thank you to everyone who voted for me! ❤\n",
      "        |                 | ️🍿 #MTVAwards @beourguest                         \n",
      " 6192   |       MTV       | RT @MTV: So, so proud of you @milliebbrown 💖  | th\n",
      "        |                 | e 2017 #MTVAwards are airing right NOW 💥 https://t\n",
      "        |                 | .co/pnRpzKwcQk                                    \n",
      " 5677   |       MTV       | RT @MTV: Rolling into a party with my squad like..\n",
      "        |                 | . #MTVAwards https://t.co/DusRSxUSnk              \n",
      " 5340   |  chrissyteigen  | RT @chrissyteigen: Yes, I do my own stunts. New ep\n",
      "        |                 | isode of @spikelsb tonight before the #mtvawards a\n",
      "        |                 | t 7:30pm EST! @zendaya vs @TomHolland19…          \n",
      " 4835   |       MTV       | RT @MTV: Thank you for your beautiful Best Actor i\n",
      "        |                 | n a Movie acceptance speech at the #MTVAwards, @Em\n",
      "        |                 | maWatson 💖 https://t.co/iGN3nQQylL                \n",
      " 1656   |   tylergposey   | RT @tylergposey: I'm taking over @mtv's snapchat a\n",
      "        |                 | ccount from the official #mtvawards + #ToyotaCHR a\n",
      "        |                 | fter party. Head over to snapchat now t…          \n",
      " 1422   |   lilbear1228   | RT @lilbear1228: Please please please vote for @mt\n",
      "        |                 | uan93 #marktuan #got7 #IGOT7 #Ahgase #MTVAwards #k\n",
      "        |                 | pop #GOT7forVMAs https://t.co/gE63Y02tGd          \n",
      " 1414   |       MTV       | RT @MTV: Congrats to @RealHughJackman and Dafne Ke\n",
      "        |                 | en for winning Best Duo at the #MTVAwards! https:/\n",
      "        |                 | /t.co/Oz3Y5d4rC5                                  \n",
      " 1252   |       MTV       | RT @MTV: 💫 @EmmaWatson x #MTVAwards x @CaraDelevin\n",
      "        |                 | gne 💫 https://t.co/K18urNbVHG                     \n"
     ]
    }
   ],
   "source": [
    "# Slice off the first 5 from the sorted results and display each item in the tuple\n",
    "\n",
    "prettyprint_tweets(sorted(retweets, reverse=True)[:10])"
   ]
  },
  {
   "cell_type": "code",
   "execution_count": null,
   "metadata": {
    "collapsed": true
   },
   "outputs": [],
   "source": []
  }
 ],
 "metadata": {
  "anaconda-cloud": {},
  "kernelspec": {
   "display_name": "Python 3",
   "language": "python",
   "name": "python3"
  },
  "language_info": {
   "codemirror_mode": {
    "name": "ipython",
    "version": 3
   },
   "file_extension": ".py",
   "mimetype": "text/x-python",
   "name": "python",
   "nbconvert_exporter": "python",
   "pygments_lexer": "ipython3",
   "version": "3.5.3"
  }
 },
 "nbformat": 4,
 "nbformat_minor": 1
}
